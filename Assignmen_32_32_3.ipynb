{
  "nbformat": 4,
  "nbformat_minor": 0,
  "metadata": {
    "colab": {
      "name": "Assignmen 32*32*3",
      "version": "0.3.2",
      "provenance": [],
      "collapsed_sections": [],
      "include_colab_link": true
    },
    "kernelspec": {
      "name": "python3",
      "display_name": "Python 3"
    },
    "accelerator": "TPU"
  },
  "cells": [
    {
      "cell_type": "markdown",
      "metadata": {
        "id": "view-in-github",
        "colab_type": "text"
      },
      "source": [
        "<a href=\"https://colab.research.google.com/github/NZtechpapa/Cifar10SVM_CNN/blob/master/Assignmen_32_32_3.ipynb\" target=\"_parent\"><img src=\"https://colab.research.google.com/assets/colab-badge.svg\" alt=\"Open In Colab\"/></a>"
      ]
    },
    {
      "cell_type": "markdown",
      "metadata": {
        "id": "oTYXW-8bB01x",
        "colab_type": "text"
      },
      "source": [
        "# Assignement 2 Machine Learning 159738 -  Combine Convolutional Neural Network(CNN) and Support Vector Machine (SVM) classification for Cifar 10 dataset"
      ]
    },
    {
      "cell_type": "markdown",
      "metadata": {
        "id": "KIv6zZpxCTRM",
        "colab_type": "text"
      },
      "source": [
        "#### Name: Ziyi Wang ID: 18042783"
      ]
    },
    {
      "cell_type": "markdown",
      "metadata": {
        "id": "IKNtlbWSCBVn",
        "colab_type": "text"
      },
      "source": [
        "#### Reference: \n",
        "    * https://arxiv.org/pdf/1712.03541v2.pdf\n",
        "    * https://github.com/AFAgarap/cnn-svm"
      ]
    },
    {
      "cell_type": "markdown",
      "metadata": {
        "id": "rSoK8o4cCPP5",
        "colab_type": "text"
      },
      "source": [
        "#### Datasets: Cifar 10\n",
        "* https://www.cs.toronto.edu/~kriz/cifar.html\n",
        "* https://keras.io/examples/cifar10_cnn/"
      ]
    },
    {
      "cell_type": "code",
      "metadata": {
        "id": "bDMFNRYjNoxn",
        "colab_type": "code",
        "colab": {}
      },
      "source": [
        "import pandas as pd\n",
        "import matplotlib.pyplot as plt\n",
        "import matplotlib as mpl\n",
        "import seaborn as sns\n",
        "import numpy as np\n",
        "import patsy\n",
        "import os\n",
        "#from plt import Image \n",
        "import cv2\n",
        "%matplotlib inline"
      ],
      "execution_count": 0,
      "outputs": []
    },
    {
      "cell_type": "code",
      "metadata": {
        "id": "WBeP76CPNxxX",
        "colab_type": "code",
        "outputId": "fa58ad23-f61b-411a-e24d-32346a381fb3",
        "colab": {
          "base_uri": "https://localhost:8080/",
          "height": 34
        }
      },
      "source": [
        "# TensorFlow and tf.keras\n",
        "import tensorflow as tf\n",
        "from tensorflow import keras\n",
        "\n",
        "# Helper libraries\n",
        "import numpy as np\n",
        "import matplotlib.pyplot as plt\n",
        "\n",
        "import time\n",
        "import sys\n",
        "print(tf.__version__)"
      ],
      "execution_count": 2,
      "outputs": [
        {
          "output_type": "stream",
          "text": [
            "1.13.1\n"
          ],
          "name": "stdout"
        }
      ]
    },
    {
      "cell_type": "code",
      "metadata": {
        "id": "cyW2VTy1Qci-",
        "colab_type": "code",
        "colab": {}
      },
      "source": [
        "from pylab import rcParams\n",
        "\n",
        "sns.set(style=\"ticks\")\n",
        "#sns.set_style(\"whitegrid\")\n",
        "rcParams['figure.dpi'] = 72\n",
        "rcParams['lines.linewidth'] = 2\n",
        "rcParams['axes.facecolor'] = 'white'\n",
        "rcParams['patch.edgecolor'] = 'white'\n",
        "rcParams['font.family'] = 'StixGeneral'\n",
        "rcParams['figure.figsize'] = 10,8\n",
        "rcParams['font.size'] = 14\n",
        "rcParams['axes.labelsize'] = 'large'\n",
        "rcParams['xtick.labelsize'] = 14\n",
        "rcParams['ytick.labelsize'] = 14\n",
        "\n",
        "pd.options.display.max_columns = 50\n"
      ],
      "execution_count": 0,
      "outputs": []
    },
    {
      "cell_type": "code",
      "metadata": {
        "id": "Cz2b41z2QrI0",
        "colab_type": "code",
        "outputId": "e2da60d0-4818-42d6-c5bf-2fda4538f251",
        "colab": {
          "base_uri": "https://localhost:8080/",
          "height": 34
        }
      },
      "source": [
        "import keras\n",
        "from keras.datasets import cifar10\n",
        "from keras.preprocessing.image import ImageDataGenerator\n",
        "from keras.models import Sequential\n",
        "from keras.layers import Dense, Dropout, Activation, Flatten\n",
        "from keras.layers import Conv2D, MaxPooling2D"
      ],
      "execution_count": 4,
      "outputs": [
        {
          "output_type": "stream",
          "text": [
            "Using TensorFlow backend.\n"
          ],
          "name": "stderr"
        }
      ]
    },
    {
      "cell_type": "code",
      "metadata": {
        "id": "4OA0XUnFgi8q",
        "colab_type": "code",
        "outputId": "1b37e5bb-4ad5-487a-8778-0831f73e4f27",
        "colab": {
          "base_uri": "https://localhost:8080/",
          "height": 34
        }
      },
      "source": [
        "from google.colab import drive\n",
        "drive.mount('/content/drive/')"
      ],
      "execution_count": 5,
      "outputs": [
        {
          "output_type": "stream",
          "text": [
            "Drive already mounted at /content/drive/; to attempt to forcibly remount, call drive.mount(\"/content/drive/\", force_remount=True).\n"
          ],
          "name": "stdout"
        }
      ]
    },
    {
      "cell_type": "code",
      "metadata": {
        "id": "_7RAe8CbhMoH",
        "colab_type": "code",
        "colab": {}
      },
      "source": [
        "!ls \"/content/drive/My Drive/Colab Notebooks/model\""
      ],
      "execution_count": 0,
      "outputs": []
    },
    {
      "cell_type": "code",
      "metadata": {
        "id": "q0yf0xp4QrL-",
        "colab_type": "code",
        "colab": {}
      },
      "source": [
        "save_dir = os.path.join(os.getcwd(), 'saved_models')\n",
        "model_name = 'keras_cifar10_trained_model.h5'"
      ],
      "execution_count": 0,
      "outputs": []
    },
    {
      "cell_type": "code",
      "metadata": {
        "id": "I96YbF7HQrR-",
        "colab_type": "code",
        "outputId": "7c6c3c97-cc1a-49ba-f2c5-26f315ccdec7",
        "colab": {
          "base_uri": "https://localhost:8080/",
          "height": 34
        }
      },
      "source": [
        "save_dir"
      ],
      "execution_count": 8,
      "outputs": [
        {
          "output_type": "execute_result",
          "data": {
            "text/plain": [
              "'/content/saved_models'"
            ]
          },
          "metadata": {
            "tags": []
          },
          "execution_count": 8
        }
      ]
    },
    {
      "cell_type": "markdown",
      "metadata": {
        "id": "RVkVyEN2ZY-a",
        "colab_type": "text"
      },
      "source": [
        "# New Section"
      ]
    },
    {
      "cell_type": "code",
      "metadata": {
        "id": "RTgXL4xTQrUz",
        "colab_type": "code",
        "outputId": "93bb46a4-822c-43fc-94c4-0f9746f63893",
        "colab": {
          "base_uri": "https://localhost:8080/",
          "height": 68
        }
      },
      "source": [
        "# The data, split between train and test sets:\n",
        "(x_train, y_train), (x_test, y_test) = cifar10.load_data()\n",
        "print('x_train shape:', x_train.shape)\n",
        "print(x_train.shape[0], 'train samples')\n",
        "print(x_test.shape[0], 'test samples')"
      ],
      "execution_count": 9,
      "outputs": [
        {
          "output_type": "stream",
          "text": [
            "x_train shape: (50000, 32, 32, 3)\n",
            "50000 train samples\n",
            "10000 test samples\n"
          ],
          "name": "stdout"
        }
      ]
    },
    {
      "cell_type": "code",
      "metadata": {
        "id": "JiYB0ZkBQrXn",
        "colab_type": "code",
        "colab": {}
      },
      "source": [
        "def load_label_names():\n",
        "    return ['airplane', 'automobile', 'bird', 'cat', 'deer', 'dog', 'frog', 'horse', 'ship', 'truck']"
      ],
      "execution_count": 0,
      "outputs": []
    },
    {
      "cell_type": "code",
      "metadata": {
        "id": "jwFlXnIN6quE",
        "colab_type": "code",
        "colab": {}
      },
      "source": [
        "class_names = load_label_names()\n",
        "num_classes = 10"
      ],
      "execution_count": 0,
      "outputs": []
    },
    {
      "cell_type": "code",
      "metadata": {
        "id": "QC8ka-gu6qx9",
        "colab_type": "code",
        "outputId": "335f0edc-781e-4995-917b-e4b5fa6ae81e",
        "colab": {
          "base_uri": "https://localhost:8080/",
          "height": 495
        }
      },
      "source": [
        "# plot first few images\n",
        "for i in range(9):\n",
        "    plt.subplot(330 + 1 + i)\n",
        "    # define subplot\n",
        "    plt.imshow(x_train[i])\n",
        "# show the figure\n",
        "plt.show()"
      ],
      "execution_count": 13,
      "outputs": [
        {
          "output_type": "display_data",
          "data": {
            "image/png": "[encoded data removed]",
            "text/plain": [
              "<Figure size 720x576 with 9 Axes>"
            ]
          },
          "metadata": {
            "tags": []
          }
        }
      ]
    },
    {
      "cell_type": "code",
      "metadata": {
        "id": "AdErGyK26q06",
        "colab_type": "code",
        "colab": {}
      },
      "source": [
        "# Convert class vectors to binary class matrices.\n",
        "y_train = keras.utils.to_categorical(y_train, num_classes)\n",
        "y_test = keras.utils.to_categorical(y_test, num_classes)"
      ],
      "execution_count": 0,
      "outputs": []
    },
    {
      "cell_type": "markdown",
      "metadata": {
        "id": "x0OOIeTf1YeD",
        "colab_type": "text"
      },
      "source": [
        "RGB  input ceshi \n"
      ]
    },
    {
      "cell_type": "code",
      "metadata": {
        "id": "5ENnKygI1FcF",
        "colab_type": "code",
        "outputId": "99167b0f-d4aa-48e6-ba21-23a7acd07c7f",
        "colab": {
          "base_uri": "https://localhost:8080/",
          "height": 850
        }
      },
      "source": [
        "x_train.shape\n",
        "x_train = x_train/255\n",
        "x_test = x_test/255\n",
        "print(x_train[0])"
      ],
      "execution_count": 15,
      "outputs": [
        {
          "output_type": "stream",
          "text": [
            "[[[0.23137255 0.24313725 0.24705882]\n",
            "  [0.16862745 0.18039216 0.17647059]\n",
            "  [0.19607843 0.18823529 0.16862745]\n",
            "  ...\n",
            "  [0.61960784 0.51764706 0.42352941]\n",
            "  [0.59607843 0.49019608 0.4       ]\n",
            "  [0.58039216 0.48627451 0.40392157]]\n",
            "\n",
            " [[0.0627451  0.07843137 0.07843137]\n",
            "  [0.         0.         0.        ]\n",
            "  [0.07058824 0.03137255 0.        ]\n",
            "  ...\n",
            "  [0.48235294 0.34509804 0.21568627]\n",
            "  [0.46666667 0.3254902  0.19607843]\n",
            "  [0.47843137 0.34117647 0.22352941]]\n",
            "\n",
            " [[0.09803922 0.09411765 0.08235294]\n",
            "  [0.0627451  0.02745098 0.        ]\n",
            "  [0.19215686 0.10588235 0.03137255]\n",
            "  ...\n",
            "  [0.4627451  0.32941176 0.19607843]\n",
            "  [0.47058824 0.32941176 0.19607843]\n",
            "  [0.42745098 0.28627451 0.16470588]]\n",
            "\n",
            " ...\n",
            "\n",
            " [[0.81568627 0.66666667 0.37647059]\n",
            "  [0.78823529 0.6        0.13333333]\n",
            "  [0.77647059 0.63137255 0.10196078]\n",
            "  ...\n",
            "  [0.62745098 0.52156863 0.2745098 ]\n",
            "  [0.21960784 0.12156863 0.02745098]\n",
            "  [0.20784314 0.13333333 0.07843137]]\n",
            "\n",
            " [[0.70588235 0.54509804 0.37647059]\n",
            "  [0.67843137 0.48235294 0.16470588]\n",
            "  [0.72941176 0.56470588 0.11764706]\n",
            "  ...\n",
            "  [0.72156863 0.58039216 0.36862745]\n",
            "  [0.38039216 0.24313725 0.13333333]\n",
            "  [0.3254902  0.20784314 0.13333333]]\n",
            "\n",
            " [[0.69411765 0.56470588 0.45490196]\n",
            "  [0.65882353 0.50588235 0.36862745]\n",
            "  [0.70196078 0.55686275 0.34117647]\n",
            "  ...\n",
            "  [0.84705882 0.72156863 0.54901961]\n",
            "  [0.59215686 0.4627451  0.32941176]\n",
            "  [0.48235294 0.36078431 0.28235294]]]\n"
          ],
          "name": "stdout"
        }
      ]
    },
    {
      "cell_type": "code",
      "metadata": {
        "id": "s3eNCoQI11tG",
        "colab_type": "code",
        "colab": {}
      },
      "source": [
        "#training_data = []\n",
        "#for i in x_train:\n",
        "#  X_train_list = cv2.cvtColor(i, cv2.COLOR_BGR2GRAY)\n",
        "#  training_data.append(X_train_list)\n",
        "  \n",
        "  \n",
        "#for i in x_train:\n",
        "#  print(i.shape)\n",
        "#  X_train_list = cv2.cvtColor(i, cv2.COLOR_BGR2GRAY)\n",
        "#  training_data.append([X_train_list])\n",
        "  \n",
        "#trainfeaturex = np.array(training_data).reshape(-1, 32, 32, 1)\n",
        "#print(trainfeaturex.shape)"
      ],
      "execution_count": 0,
      "outputs": []
    },
    {
      "cell_type": "markdown",
      "metadata": {
        "id": "R6qZE_JG7Sf0",
        "colab_type": "text"
      },
      "source": [
        "##  Create CNN model\n",
        "#### Initializes the CNN-Softmax model\n",
        "    * param alpha: The learning rate to be used by the model.\n",
        "    * param batch_size: The number of batches to use for training/validation/testing.\n",
        "    * param num_classes: The number of classes in the dataset.\n",
        "    * param num_features: The number of features in the dataset.\n",
        "    * param penalty_parameter: The SVM C penalty parameter."
      ]
    },
    {
      "cell_type": "code",
      "metadata": {
        "id": "IvGbC2p_6q35",
        "colab_type": "code",
        "colab": {}
      },
      "source": [
        "batch_size = 100\n",
        "num_classes = 10\n",
        "epochs = 100\n",
        "data_augmentation = True\n",
        "num_predictions = 20\n",
        "num_classes = y_train.shape[1]\n",
        "#num_features is one image size shape\n",
        "num_features = x_train[1].shape\n",
        "alpha=1e-3\n",
        "penalty_parameter = 3 #this parameter should check again"
      ],
      "execution_count": 0,
      "outputs": []
    },
    {
      "cell_type": "code",
      "metadata": {
        "id": "_EePMUg4mrjN",
        "colab_type": "code",
        "outputId": "5c1a404b-b016-4df9-bd08-5aa7e77d5ba6",
        "colab": {
          "base_uri": "https://localhost:8080/",
          "height": 34
        }
      },
      "source": [
        "num_features "
      ],
      "execution_count": 17,
      "outputs": [
        {
          "output_type": "execute_result",
          "data": {
            "text/plain": [
              "(32, 32, 3)"
            ]
          },
          "metadata": {
            "tags": []
          },
          "execution_count": 17
        }
      ]
    },
    {
      "cell_type": "code",
      "metadata": {
        "id": "E9JT8yWn6rDF",
        "colab_type": "code",
        "colab": {}
      },
      "source": [
        "def weight_variable(shape):\n",
        "    \"\"\"Returns a weight matrix consisting of arbitrary values.\n",
        "\n",
        "    :param shape: The shape of the weight matrix to create.\n",
        "    :return: The weight matrix consisting of arbitrary values.\n",
        "     \"\"\"\n",
        "    initial = tf.truncated_normal(shape, stddev=0.1)\n",
        "    return tf.Variable(initial)\n",
        "\n",
        "def bias_variable(shape):\n",
        "    \"\"\"Returns a bias matrix consisting of 0.1 values.\n",
        "\n",
        "    :param shape: The shape of the bias matrix to create.\n",
        "    :return: The bias matrix consisting of 0.1 values.\n",
        "    \"\"\"\n",
        "    initial = tf.constant(0.1, shape=shape)\n",
        "    return tf.Variable(initial)\n",
        "\n",
        "def conv2d(features, weight):\n",
        "    \"\"\"Produces a convolutional layer that filters an image subregion\n",
        "\n",
        "    :param features: The layer input.\n",
        "    :param weight: The size of the layer filter.\n",
        "    :return: Returns a convolutional layer.\n",
        "    \"\"\"\n",
        "    return tf.nn.conv2d(features, weight, strides=[1, 1, 1, 1], padding='SAME')\n",
        "\n",
        "def max_pool_2x2(features):\n",
        "    \"\"\"Downnsamples the image based on convolutional layer\n",
        "\n",
        "    :param features: The input to downsample.\n",
        "    :return: Downsampled input.\n",
        "    \"\"\"\n",
        "    return tf.nn.max_pool(features, ksize=[1, 2, 2, 1], strides=[1, 2, 2, 1], padding='SAME')\n"
      ],
      "execution_count": 0,
      "outputs": []
    },
    {
      "cell_type": "code",
      "metadata": {
        "id": "he0iaIca6q7W",
        "colab_type": "code",
        "colab": {}
      },
      "source": [
        "with tf.name_scope('input'):\n",
        "    # [BATCH_SIZE, NUM_FEATURES]\n",
        "  #  x_input = tf.placeholder(dtype=tf.float32, shape=[None, num_features], name='x_input')\n",
        "    x_input = tf.placeholder(dtype=tf.float32, shape=[None, 32,32,3], name='x_input')\n",
        "    # [BATCH_SIZE, NUM_CLASSES]\n",
        "    y_input = tf.placeholder(dtype=tf.float32, shape=[None, num_classes], name='actual_label')     "
      ],
      "execution_count": 0,
      "outputs": []
    },
    {
      "cell_type": "code",
      "metadata": {
        "id": "cnbX3Dvb6q-D",
        "colab_type": "code",
        "outputId": "f4fd7a09-3e1a-406f-934c-04e28c88b587",
        "colab": {
          "base_uri": "https://localhost:8080/",
          "height": 71
        }
      },
      "source": [
        "print(\"X-imput\", x_input,\"Y-imput\", y_input)\n",
        "print(type(y_input))"
      ],
      "execution_count": 20,
      "outputs": [
        {
          "output_type": "stream",
          "text": [
            "X-imput Tensor(\"input/x_input:0\", shape=(?, 32, 32, 3), dtype=float32) Y-imput Tensor(\"input/actual_label:0\", shape=(?, 10), dtype=float32)\n",
            "<class 'tensorflow.python.framework.ops.Tensor'>\n"
          ],
          "name": "stdout"
        }
      ]
    },
    {
      "cell_type": "code",
      "metadata": {
        "id": "IAULuVyp6rAr",
        "colab_type": "code",
        "outputId": "c8a94e68-b48c-404b-ec27-55b6d9a6fe3b",
        "colab": {
          "base_uri": "https://localhost:8080/",
          "height": 139
        }
      },
      "source": [
        "# First convolutional layer\n",
        "first_conv_weight = weight_variable([5, 5, 3, 32])\n",
        "first_conv_bias = bias_variable([32])\n",
        "\n",
        "input_image = tf.reshape(x_input, [-1, 32, 32, 3])\n",
        "\n",
        "first_conv_activation = tf.nn.relu(conv2d(input_image, first_conv_weight) + first_conv_bias)\n",
        "first_conv_pool = max_pool_2x2(first_conv_activation)\n",
        "\n",
        "# Second convolutional layer\n",
        "second_conv_weight = weight_variable([5, 5, 32, 64])\n",
        "second_conv_bias = bias_variable([64])\n",
        "\n",
        "second_conv_activation = tf.nn.relu(conv2d(first_conv_pool, second_conv_weight) + second_conv_bias)\n",
        "second_conv_pool = max_pool_2x2(second_conv_activation)\n",
        "\n",
        "# Fully-connected layer (Dense Layer)\n",
        "dense_layer_weight = weight_variable([8 * 8 * 64, 1024])\n",
        "dense_layer_bias = bias_variable([1024])\n",
        "\n",
        "second_conv_pool_flatten = tf.reshape(second_conv_pool, [-1, 8 * 8 * 64])\n",
        "dense_layer_activation = tf.nn.relu(tf.matmul(second_conv_pool_flatten, dense_layer_weight) + dense_layer_bias)\n",
        "\n",
        "# Dropout, to avoid over-fitting\n",
        "keep_prob = tf.placeholder(tf.float32)\n",
        "h_fc1_drop = tf.nn.dropout(dense_layer_activation, keep_prob)\n",
        "\n",
        "# Readout layer\n",
        "readout_weight = weight_variable([1024, num_classes])\n",
        "readout_bias = bias_variable([num_classes])\n",
        "\n",
        "output = tf.matmul(h_fc1_drop, readout_weight) + readout_bias        "
      ],
      "execution_count": 21,
      "outputs": [
        {
          "output_type": "stream",
          "text": [
            "WARNING:tensorflow:From /usr/local/lib/python3.6/dist-packages/tensorflow/python/framework/op_def_library.py:263: colocate_with (from tensorflow.python.framework.ops) is deprecated and will be removed in a future version.\n",
            "Instructions for updating:\n",
            "Colocations handled automatically by placer.\n",
            "WARNING:tensorflow:From <ipython-input-21-d1bb50cefed1>:25: calling dropout (from tensorflow.python.ops.nn_ops) with keep_prob is deprecated and will be removed in a future version.\n",
            "Instructions for updating:\n",
            "Please use `rate` instead of `keep_prob`. Rate should be set to `rate = 1 - keep_prob`.\n"
          ],
          "name": "stdout"
        }
      ]
    },
    {
      "cell_type": "code",
      "metadata": {
        "id": "9SeM49-_6rFo",
        "colab_type": "code",
        "colab": {}
      },
      "source": [
        "with tf.name_scope('svm'):\n",
        "    regularization_loss = tf.reduce_mean(tf.square(readout_weight))\n",
        "    hinge_loss = tf.reduce_mean(\n",
        "        tf.square(tf.maximum(tf.zeros([batch_size, num_classes]), 1 - y_input * output)))\n",
        "    with tf.name_scope('loss'):\n",
        "        loss = regularization_loss + penalty_parameter * hinge_loss\n",
        "    tf.summary.scalar('loss', loss)\n",
        "\n",
        "    optimizer = tf.train.AdamOptimizer(learning_rate=alpha).minimize(loss)\n",
        "\n",
        "with tf.name_scope('accuracy'):\n",
        "    output = tf.identity(tf.sign(output), name='prediction')\n",
        "    correct_prediction = tf.equal(tf.argmax(output, 1), tf.argmax(y_input, 1))\n",
        "    with tf.name_scope('accuracy'):\n",
        "       accuracy = tf.reduce_mean(tf.cast(correct_prediction, tf.float32))\n",
        "    tf.summary.scalar('accuracy', accuracy)\n",
        "\n",
        "    merged = tf.summary.merge_all()\n",
        "\n",
        "    x_input_new = x_input\n",
        "    y_input_new = y_input\n",
        "    keep_prob_new = keep_prob\n",
        "    output_new = output\n",
        "    loss_new = loss\n",
        "    optimizer_new = optimizer\n",
        "    accuracy_new = accuracy\n",
        "    merged_new = merged"
      ],
      "execution_count": 0,
      "outputs": []
    },
    {
      "cell_type": "code",
      "metadata": {
        "id": "VBEno2SrjJOq",
        "colab_type": "code",
        "colab": {}
      },
      "source": [
        "# 此处为google drive中的文件路径,drive为之前指定的工作根目录，要加上\n",
        "os.chdir(\"/content/drive/My Drive/Colab Notebooks/model\") "
      ],
      "execution_count": 0,
      "outputs": []
    },
    {
      "cell_type": "code",
      "metadata": {
        "id": "9qphXdHunoxi",
        "colab_type": "code",
        "outputId": "ba9fadb7-bc2a-468d-cf7a-717ca39c3017",
        "colab": {
          "base_uri": "https://localhost:8080/",
          "height": 34
        }
      },
      "source": [
        "os.getcwd()"
      ],
      "execution_count": 24,
      "outputs": [
        {
          "output_type": "execute_result",
          "data": {
            "text/plain": [
              "'/content/drive/My Drive/Colab Notebooks/model'"
            ]
          },
          "metadata": {
            "tags": []
          },
          "execution_count": 24
        }
      ]
    },
    {
      "cell_type": "code",
      "metadata": {
        "id": "7HjlMqCYoxv7",
        "colab_type": "code",
        "colab": {}
      },
      "source": [
        "file_path = os.getcwd()"
      ],
      "execution_count": 0,
      "outputs": []
    },
    {
      "cell_type": "code",
      "metadata": {
        "id": "eD_-uAOCe_MS",
        "colab_type": "code",
        "colab": {}
      },
      "source": [
        "log_path  = file_path\n",
        "checkpoint_path = file_path\n",
        "train_data = y_train\n",
        "test_data = y_test"
      ],
      "execution_count": 0,
      "outputs": []
    },
    {
      "cell_type": "code",
      "metadata": {
        "id": "sy5MlaLa38cT",
        "colab_type": "code",
        "colab": {}
      },
      "source": [
        "def next_batch(num, data, labels):\n",
        "\n",
        "  idx = np.arange(0 , len(data))\n",
        "  np.random.shuffle(idx)\n",
        "  idx = idx[:num]\n",
        "  data_shuffle = [data[ i] for i in idx]\n",
        "  labels_shuffle = [labels[ i] for i in idx]\n",
        "  #return data_shuffle, labels_shuffle\n",
        "  return np.asarray(data_shuffle), np.asarray(labels_shuffle)"
      ],
      "execution_count": 0,
      "outputs": []
    },
    {
      "cell_type": "code",
      "metadata": {
        "id": "XQ_tcTpw6rIF",
        "colab_type": "code",
        "colab": {}
      },
      "source": [
        "if not os.path.exists(path=log_path):\n",
        "    os.mkdir(log_path)\n",
        "\n",
        "if not os.path.exists(path=checkpoint_path):\n",
        "    os.mkdir(checkpoint_path)\n",
        "\n",
        "saver = tf.train.Saver(max_to_keep=4)\n",
        "\n",
        "init = tf.global_variables_initializer()\n",
        "\n",
        "timestamp = str(time.asctime())\n",
        "\n",
        "train_writer = tf.summary.FileWriter(logdir=log_path + timestamp + '-training', graph=tf.get_default_graph())"
      ],
      "execution_count": 0,
      "outputs": []
    },
    {
      "cell_type": "code",
      "metadata": {
        "id": "wmokjUrYly7m",
        "colab_type": "code",
        "outputId": "bb75f39c-7177-4cd0-a72c-c8ffbff22e0c",
        "colab": {
          "base_uri": "https://localhost:8080/",
          "height": 68
        }
      },
      "source": [
        "with tf.Session() as sess:\n",
        "    sess.run(init)\n",
        "\n",
        "    checkpoint = tf.train.get_checkpoint_state(checkpoint_path)\n",
        "\n",
        "    if checkpoint and checkpoint.model_checkpoint_path:\n",
        "        saver = tf.train.import_meta_graph(checkpoint.model_checkpoint_path + '.meta')\n",
        "        saver.restore(sess, tf.train.latest_checkpoint(checkpoint_path))\n",
        "\n",
        "    for index in range(epochs):\n",
        "        # train by batch\n",
        "        #batch_features, batch_labels = train_data.next_batch(self.batch_size)\n",
        "        \n",
        "        batch_features, batch_labels = next_batch(batch_size, x_train, y_train )\n",
        "        #print(batch_features.shape)\n",
        "        #print(batch_labels.shape)  \n",
        "        batch_labels[batch_labels == 0] = -1\n",
        "\n",
        "        # input dictionary with dropout of 50%\n",
        "        feed_dict = {x_input: batch_features, y_input: batch_labels, keep_prob: 0.5}\n",
        "\n",
        "        # run the train op\n",
        "        summary, _, loss = sess.run([merged_new, optimizer_new, loss_new], feed_dict=feed_dict)\n",
        "\n",
        "        # every 100th step and at 0,\n",
        "        if index % 100 == 0:\n",
        "            feed_dict = {x_input: batch_features, y_input: batch_labels, keep_prob: 1.0}\n",
        "\n",
        "            # get the accuracy of training\n",
        "            train_accuracy = sess.run(accuracy_new, feed_dict=feed_dict)\n",
        "\n",
        "            # display the training accuracy\n",
        "            print('step: {}, training accuracy : {}, training loss : {}'.format(index, train_accuracy, loss))\n",
        "\n",
        "            train_writer.add_summary(summary=summary, global_step=index)\n",
        "\n",
        "            saver.save(sess, save_path=os.path.join(checkpoint_path, \"CNN_SVM\"), global_step=index)\n",
        "    #print(\"sdfsdfsdfsdf\")  \n",
        "    test_features = x_test\n",
        "    test_labels =  y_test\n",
        "    test_labels[test_labels == 0] = -1\n",
        "\n",
        "    feed_dict = {x_input: test_features, y_input: test_labels, keep_prob: 1.0}\n",
        "\n",
        "    test_accuracy = sess.run(accuracy, feed_dict=feed_dict)\n",
        "\n",
        "    print('Test Accuracy: {}'.format(test_accuracy))"
      ],
      "execution_count": 33,
      "outputs": [
        {
          "output_type": "stream",
          "text": [
            "INFO:tensorflow:Restoring parameters from /content/drive/My Drive/Colab Notebooks/model/CNN_SVM-0\n",
            "step: 0, training accuracy : 0.11999999731779099, training loss : 43.85087585449219\n",
            "Test Accuracy: 0.10050000250339508\n"
          ],
          "name": "stdout"
        }
      ]
    }
  ]
}