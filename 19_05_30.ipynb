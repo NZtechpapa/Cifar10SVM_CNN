{
 "cells": [
  {
   "cell_type": "code",
   "execution_count": 1,
   "metadata": {
    "colab": {},
    "colab_type": "code",
    "id": "RgCmaNtELWcf"
   },
   "outputs": [
    {
     "name": "stderr",
     "output_type": "stream",
     "text": [
      "Using TensorFlow backend.\n"
     ]
    }
   ],
   "source": [
    "import keras\n",
    "from keras.models import Sequential\n",
    "from keras.utils import np_utils\n",
    "from keras.preprocessing.image import ImageDataGenerator\n",
    "from keras.layers import Dense, Activation, Flatten, Dropout, BatchNormalization\n",
    "from keras.layers import Conv2D, MaxPooling2D\n",
    "from keras.datasets import cifar10\n",
    "from keras import regularizers\n",
    "from keras.callbacks import LearningRateScheduler\n",
    "import numpy as np\n",
    "import pickle"
   ]
  },
  {
   "cell_type": "code",
   "execution_count": 2,
   "metadata": {
    "colab": {},
    "colab_type": "code",
    "id": "oS3YtyW6LylX"
   },
   "outputs": [],
   "source": [
    "\n",
    "def lr_schedule(epoch):\n",
    "    lrate = 0.001\n",
    "    if epoch > 75:\n",
    "        lrate = 0.0005\n",
    "    elif epoch > 100:\n",
    "        lrate = 0.0003        \n",
    "    return lrate"
   ]
  },
  {
   "cell_type": "code",
   "execution_count": 3,
   "metadata": {
    "colab": {},
    "colab_type": "code",
    "id": "0YR14RboL092"
   },
   "outputs": [],
   "source": [
    "(x_train, y_train), (x_test, y_test) = cifar10.load_data()\n",
    "x_train = x_train.astype('float32')\n",
    "x_test = x_test.astype('float32')\n"
   ]
  },
  {
   "cell_type": "code",
   "execution_count": 4,
   "metadata": {
    "colab": {},
    "colab_type": "code",
    "id": "owhH_qeQL2iK"
   },
   "outputs": [],
   "source": [
    "#z-score\n",
    "mean = np.mean(x_train,axis=(0,1,2,3))\n",
    "std = np.std(x_train,axis=(0,1,2,3))\n",
    "x_train = (x_train-mean)/(std+1e-7)\n",
    "x_test = (x_test-mean)/(std+1e-7)\n"
   ]
  },
  {
   "cell_type": "code",
   "execution_count": 5,
   "metadata": {
    "colab": {},
    "colab_type": "code",
    "id": "_bcoHpJHL4O-"
   },
   "outputs": [],
   "source": [
    "\n",
    "num_classes = 10\n",
    "y_train = np_utils.to_categorical(y_train,num_classes)\n",
    "y_test = np_utils.to_categorical(y_test,num_classes)"
   ]
  },
  {
   "cell_type": "code",
   "execution_count": 6,
   "metadata": {
    "colab": {},
    "colab_type": "code",
    "id": "5trHgDGhL7Hc"
   },
   "outputs": [
    {
     "name": "stdout",
     "output_type": "stream",
     "text": [
      "_________________________________________________________________\n",
      "Layer (type)                 Output Shape              Param #   \n",
      "=================================================================\n",
      "conv2d_1 (Conv2D)            (None, 32, 32, 32)        896       \n",
      "_________________________________________________________________\n",
      "activation_1 (Activation)    (None, 32, 32, 32)        0         \n",
      "_________________________________________________________________\n",
      "batch_normalization_1 (Batch (None, 32, 32, 32)        128       \n",
      "_________________________________________________________________\n",
      "conv2d_2 (Conv2D)            (None, 32, 32, 32)        9248      \n",
      "_________________________________________________________________\n",
      "activation_2 (Activation)    (None, 32, 32, 32)        0         \n",
      "_________________________________________________________________\n",
      "batch_normalization_2 (Batch (None, 32, 32, 32)        128       \n",
      "_________________________________________________________________\n",
      "max_pooling2d_1 (MaxPooling2 (None, 16, 16, 32)        0         \n",
      "_________________________________________________________________\n",
      "dropout_1 (Dropout)          (None, 16, 16, 32)        0         \n",
      "_________________________________________________________________\n",
      "conv2d_3 (Conv2D)            (None, 16, 16, 64)        18496     \n",
      "_________________________________________________________________\n",
      "activation_3 (Activation)    (None, 16, 16, 64)        0         \n",
      "_________________________________________________________________\n",
      "batch_normalization_3 (Batch (None, 16, 16, 64)        256       \n",
      "_________________________________________________________________\n",
      "conv2d_4 (Conv2D)            (None, 16, 16, 64)        36928     \n",
      "_________________________________________________________________\n",
      "activation_4 (Activation)    (None, 16, 16, 64)        0         \n",
      "_________________________________________________________________\n",
      "batch_normalization_4 (Batch (None, 16, 16, 64)        256       \n",
      "_________________________________________________________________\n",
      "max_pooling2d_2 (MaxPooling2 (None, 8, 8, 64)          0         \n",
      "_________________________________________________________________\n",
      "dropout_2 (Dropout)          (None, 8, 8, 64)          0         \n",
      "_________________________________________________________________\n",
      "conv2d_5 (Conv2D)            (None, 8, 8, 128)         73856     \n",
      "_________________________________________________________________\n",
      "activation_5 (Activation)    (None, 8, 8, 128)         0         \n",
      "_________________________________________________________________\n",
      "batch_normalization_5 (Batch (None, 8, 8, 128)         512       \n",
      "_________________________________________________________________\n",
      "conv2d_6 (Conv2D)            (None, 8, 8, 128)         147584    \n",
      "_________________________________________________________________\n",
      "activation_6 (Activation)    (None, 8, 8, 128)         0         \n",
      "_________________________________________________________________\n",
      "batch_normalization_6 (Batch (None, 8, 8, 128)         512       \n",
      "_________________________________________________________________\n",
      "max_pooling2d_3 (MaxPooling2 (None, 4, 4, 128)         0         \n",
      "_________________________________________________________________\n",
      "dropout_3 (Dropout)          (None, 4, 4, 128)         0         \n",
      "_________________________________________________________________\n",
      "flatten_1 (Flatten)          (None, 2048)              0         \n",
      "_________________________________________________________________\n",
      "dense_1 (Dense)              (None, 10)                20490     \n",
      "=================================================================\n",
      "Total params: 309,290\n",
      "Trainable params: 308,394\n",
      "Non-trainable params: 896\n",
      "_________________________________________________________________\n"
     ]
    }
   ],
   "source": [
    "\n",
    "weight_decay = 1e-4\n",
    "model = Sequential()\n",
    "model.add(Conv2D(32, (3,3), padding='same', kernel_regularizer=regularizers.l2(weight_decay), input_shape=x_train.shape[1:]))\n",
    "model.add(Activation('elu'))\n",
    "model.add(BatchNormalization())\n",
    "model.add(Conv2D(32, (3,3), padding='same', kernel_regularizer=regularizers.l2(weight_decay)))\n",
    "model.add(Activation('elu'))\n",
    "model.add(BatchNormalization())\n",
    "model.add(MaxPooling2D(pool_size=(2,2)))\n",
    "model.add(Dropout(0.2))\n",
    "\n",
    "model.add(Conv2D(64, (3,3), padding='same', kernel_regularizer=regularizers.l2(weight_decay)))\n",
    "model.add(Activation('elu'))\n",
    "model.add(BatchNormalization())\n",
    "model.add(Conv2D(64, (3,3), padding='same', kernel_regularizer=regularizers.l2(weight_decay)))\n",
    "model.add(Activation('elu'))\n",
    "model.add(BatchNormalization())\n",
    "model.add(MaxPooling2D(pool_size=(2,2)))\n",
    "model.add(Dropout(0.3))\n",
    "\n",
    "model.add(Conv2D(128, (3,3), padding='same', kernel_regularizer=regularizers.l2(weight_decay)))\n",
    "model.add(Activation('elu'))\n",
    "model.add(BatchNormalization())\n",
    "model.add(Conv2D(128, (3,3), padding='same', kernel_regularizer=regularizers.l2(weight_decay)))\n",
    "model.add(Activation('elu'))\n",
    "model.add(BatchNormalization())\n",
    "model.add(MaxPooling2D(pool_size=(2,2)))\n",
    "model.add(Dropout(0.4))\n",
    "\n",
    "model.add(Flatten())\n",
    "model.add(Dense(num_classes, activation='softmax'))\n",
    "\n",
    "model.summary()"
   ]
  },
  {
   "cell_type": "code",
   "execution_count": 7,
   "metadata": {
    "colab": {},
    "colab_type": "code",
    "id": "yRtQFAI4L9j7"
   },
   "outputs": [],
   "source": [
    "#data augmentation\n",
    "datagen = ImageDataGenerator(\n",
    "    rotation_range=15,\n",
    "    width_shift_range=0.1,\n",
    "    height_shift_range=0.1,\n",
    "    horizontal_flip=True,\n",
    "    )\n",
    "datagen.fit(x_train)"
   ]
  },
  {
   "cell_type": "code",
   "execution_count": 8,
   "metadata": {},
   "outputs": [],
   "source": [
    "#training\n"
   ]
  },
  {
   "cell_type": "code",
   "execution_count": 9,
   "metadata": {
    "scrolled": false
   },
   "outputs": [
    {
     "name": "stdout",
     "output_type": "stream",
     "text": [
      "Epoch 1/75\n",
      "781/781 [==============================] - 179s 229ms/step - loss: 1.9267 - acc: 0.4207 - val_loss: 1.3552 - val_acc: 0.5679\n",
      "Epoch 2/75\n",
      "781/781 [==============================] - 178s 228ms/step - loss: 1.2956 - acc: 0.5814 - val_loss: 1.4557 - val_acc: 0.5905\n",
      "Epoch 3/75\n",
      "781/781 [==============================] - 179s 229ms/step - loss: 1.0922 - acc: 0.6548 - val_loss: 0.9074 - val_acc: 0.7138\n",
      "Epoch 4/75\n",
      "781/781 [==============================] - 179s 229ms/step - loss: 0.9803 - acc: 0.6906 - val_loss: 0.9203 - val_acc: 0.7268\n",
      "Epoch 5/75\n",
      "781/781 [==============================] - 179s 229ms/step - loss: 0.9124 - acc: 0.7164 - val_loss: 0.8190 - val_acc: 0.7545\n",
      "Epoch 6/75\n",
      "781/781 [==============================] - 179s 229ms/step - loss: 0.8705 - acc: 0.7314 - val_loss: 0.7883 - val_acc: 0.7665\n",
      "Epoch 7/75\n",
      "781/781 [==============================] - 179s 229ms/step - loss: 0.8359 - acc: 0.7476 - val_loss: 0.8253 - val_acc: 0.7659\n",
      "Epoch 8/75\n",
      "781/781 [==============================] - 178s 228ms/step - loss: 0.8030 - acc: 0.7615 - val_loss: 0.8701 - val_acc: 0.7529\n",
      "Epoch 9/75\n",
      "781/781 [==============================] - 179s 229ms/step - loss: 0.7873 - acc: 0.7677 - val_loss: 0.8227 - val_acc: 0.7700\n",
      "Epoch 10/75\n",
      "781/781 [==============================] - 178s 228ms/step - loss: 0.7677 - acc: 0.7754 - val_loss: 0.7150 - val_acc: 0.7959\n",
      "Epoch 11/75\n",
      "781/781 [==============================] - 178s 228ms/step - loss: 0.7467 - acc: 0.7840 - val_loss: 0.7557 - val_acc: 0.7873\n",
      "Epoch 12/75\n",
      "781/781 [==============================] - 178s 228ms/step - loss: 0.7261 - acc: 0.7897 - val_loss: 0.7043 - val_acc: 0.8050\n",
      "Epoch 13/75\n",
      "781/781 [==============================] - 179s 229ms/step - loss: 0.7225 - acc: 0.7939 - val_loss: 0.6697 - val_acc: 0.8141\n",
      "Epoch 14/75\n",
      "781/781 [==============================] - 178s 228ms/step - loss: 0.7080 - acc: 0.7998 - val_loss: 0.6323 - val_acc: 0.8269\n",
      "Epoch 15/75\n",
      "781/781 [==============================] - 178s 228ms/step - loss: 0.7026 - acc: 0.8037 - val_loss: 0.7324 - val_acc: 0.7993\n",
      "Epoch 16/75\n",
      "781/781 [==============================] - 178s 228ms/step - loss: 0.6954 - acc: 0.8068 - val_loss: 0.6338 - val_acc: 0.8339\n",
      "Epoch 17/75\n",
      "781/781 [==============================] - 177s 227ms/step - loss: 0.6813 - acc: 0.8101 - val_loss: 0.6060 - val_acc: 0.8398\n",
      "Epoch 18/75\n",
      "781/781 [==============================] - 177s 226ms/step - loss: 0.6808 - acc: 0.8120 - val_loss: 0.7021 - val_acc: 0.8145\n",
      "Epoch 19/75\n",
      "781/781 [==============================] - 176s 226ms/step - loss: 0.6679 - acc: 0.8162 - val_loss: 0.6736 - val_acc: 0.8180\n",
      "Epoch 20/75\n",
      "781/781 [==============================] - 177s 227ms/step - loss: 0.6657 - acc: 0.8173 - val_loss: 0.6322 - val_acc: 0.8342\n",
      "Epoch 21/75\n",
      "781/781 [==============================] - 178s 228ms/step - loss: 0.6591 - acc: 0.8209 - val_loss: 0.6751 - val_acc: 0.8244\n",
      "Epoch 22/75\n",
      "781/781 [==============================] - 179s 229ms/step - loss: 0.6567 - acc: 0.8211 - val_loss: 0.6465 - val_acc: 0.8300\n",
      "Epoch 23/75\n",
      "781/781 [==============================] - 179s 229ms/step - loss: 0.6480 - acc: 0.8267 - val_loss: 0.6354 - val_acc: 0.8375\n",
      "Epoch 24/75\n",
      "781/781 [==============================] - 178s 228ms/step - loss: 0.6514 - acc: 0.8224 - val_loss: 0.6975 - val_acc: 0.8217\n",
      "Epoch 25/75\n",
      "781/781 [==============================] - 178s 228ms/step - loss: 0.6379 - acc: 0.8286 - val_loss: 0.6351 - val_acc: 0.8332\n",
      "Epoch 26/75\n",
      "781/781 [==============================] - 177s 227ms/step - loss: 0.6460 - acc: 0.8257 - val_loss: 0.6254 - val_acc: 0.8360\n",
      "Epoch 27/75\n",
      "781/781 [==============================] - 177s 226ms/step - loss: 0.6391 - acc: 0.8278 - val_loss: 0.7506 - val_acc: 0.8067\n",
      "Epoch 28/75\n",
      "781/781 [==============================] - 177s 226ms/step - loss: 0.6331 - acc: 0.8304 - val_loss: 0.6697 - val_acc: 0.8314\n",
      "Epoch 29/75\n",
      "781/781 [==============================] - 176s 226ms/step - loss: 0.6344 - acc: 0.8313 - val_loss: 0.6171 - val_acc: 0.8419\n",
      "Epoch 30/75\n",
      "781/781 [==============================] - 176s 226ms/step - loss: 0.6328 - acc: 0.8288 - val_loss: 0.6554 - val_acc: 0.8297\n",
      "Epoch 31/75\n",
      "781/781 [==============================] - 178s 228ms/step - loss: 0.6259 - acc: 0.8361 - val_loss: 0.5941 - val_acc: 0.8501\n",
      "Epoch 32/75\n",
      "781/781 [==============================] - 179s 229ms/step - loss: 0.6243 - acc: 0.8344 - val_loss: 0.6971 - val_acc: 0.8235\n",
      "Epoch 33/75\n",
      "781/781 [==============================] - 178s 228ms/step - loss: 0.6231 - acc: 0.8361 - val_loss: 0.6419 - val_acc: 0.8375\n",
      "Epoch 34/75\n",
      "781/781 [==============================] - 178s 228ms/step - loss: 0.6237 - acc: 0.8365 - val_loss: 0.6378 - val_acc: 0.8370\n",
      "Epoch 35/75\n",
      "781/781 [==============================] - 177s 227ms/step - loss: 0.6128 - acc: 0.8386 - val_loss: 0.7074 - val_acc: 0.8214\n",
      "Epoch 36/75\n",
      "781/781 [==============================] - 177s 227ms/step - loss: 0.6219 - acc: 0.8366 - val_loss: 0.5517 - val_acc: 0.8634\n",
      "Epoch 37/75\n",
      "781/781 [==============================] - 178s 227ms/step - loss: 0.6155 - acc: 0.8382 - val_loss: 0.6664 - val_acc: 0.8346\n",
      "Epoch 38/75\n",
      "781/781 [==============================] - 178s 228ms/step - loss: 0.6051 - acc: 0.8397 - val_loss: 0.6600 - val_acc: 0.8343\n",
      "Epoch 39/75\n",
      "781/781 [==============================] - 179s 229ms/step - loss: 0.6122 - acc: 0.8408 - val_loss: 0.6669 - val_acc: 0.8309\n",
      "Epoch 40/75\n",
      "781/781 [==============================] - 179s 229ms/step - loss: 0.6097 - acc: 0.8404 - val_loss: 0.5939 - val_acc: 0.8515\n",
      "Epoch 41/75\n",
      "781/781 [==============================] - 178s 228ms/step - loss: 0.6057 - acc: 0.8422 - val_loss: 0.6220 - val_acc: 0.8467\n",
      "Epoch 42/75\n",
      "781/781 [==============================] - 178s 229ms/step - loss: 0.6088 - acc: 0.8422 - val_loss: 0.6375 - val_acc: 0.8424\n",
      "Epoch 43/75\n",
      "781/781 [==============================] - 178s 227ms/step - loss: 0.6076 - acc: 0.8412 - val_loss: 0.6355 - val_acc: 0.8402\n",
      "Epoch 44/75\n",
      "781/781 [==============================] - 177s 226ms/step - loss: 0.6041 - acc: 0.8443 - val_loss: 0.6269 - val_acc: 0.8445\n",
      "Epoch 45/75\n",
      "781/781 [==============================] - 176s 226ms/step - loss: 0.6068 - acc: 0.8410 - val_loss: 0.5868 - val_acc: 0.8559\n",
      "Epoch 46/75\n",
      "781/781 [==============================] - 176s 226ms/step - loss: 0.6009 - acc: 0.8458 - val_loss: 0.6583 - val_acc: 0.8373\n",
      "Epoch 47/75\n",
      "781/781 [==============================] - 176s 226ms/step - loss: 0.6013 - acc: 0.8435 - val_loss: 0.5712 - val_acc: 0.8593\n",
      "Epoch 48/75\n",
      "781/781 [==============================] - 176s 226ms/step - loss: 0.6020 - acc: 0.8445 - val_loss: 0.6649 - val_acc: 0.8295\n",
      "Epoch 49/75\n",
      "781/781 [==============================] - 178s 228ms/step - loss: 0.5995 - acc: 0.8440 - val_loss: 0.5978 - val_acc: 0.8547\n",
      "Epoch 50/75\n",
      "781/781 [==============================] - 179s 230ms/step - loss: 0.5970 - acc: 0.8463 - val_loss: 0.5883 - val_acc: 0.8506\n",
      "Epoch 51/75\n",
      "781/781 [==============================] - 179s 229ms/step - loss: 0.5920 - acc: 0.8481 - val_loss: 0.6303 - val_acc: 0.8459\n",
      "Epoch 52/75\n",
      "781/781 [==============================] - 178s 228ms/step - loss: 0.5929 - acc: 0.8486 - val_loss: 0.6399 - val_acc: 0.8406\n",
      "Epoch 53/75\n",
      "781/781 [==============================] - 178s 227ms/step - loss: 0.5942 - acc: 0.8482 - val_loss: 0.5638 - val_acc: 0.8640\n",
      "Epoch 54/75\n",
      "781/781 [==============================] - 177s 227ms/step - loss: 0.5938 - acc: 0.8494 - val_loss: 0.6270 - val_acc: 0.8447\n",
      "Epoch 55/75\n",
      "781/781 [==============================] - 177s 227ms/step - loss: 0.5900 - acc: 0.8496 - val_loss: 0.6260 - val_acc: 0.8461\n",
      "Epoch 56/75\n",
      "781/781 [==============================] - 177s 226ms/step - loss: 0.5950 - acc: 0.8480 - val_loss: 0.6543 - val_acc: 0.8359\n",
      "Epoch 57/75\n",
      "781/781 [==============================] - 176s 226ms/step - loss: 0.5901 - acc: 0.8500 - val_loss: 0.5710 - val_acc: 0.8572\n",
      "Epoch 58/75\n",
      "781/781 [==============================] - 177s 226ms/step - loss: 0.5909 - acc: 0.8482 - val_loss: 0.6217 - val_acc: 0.8463\n",
      "Epoch 59/75\n",
      "781/781 [==============================] - 177s 226ms/step - loss: 0.5890 - acc: 0.8503 - val_loss: 0.5829 - val_acc: 0.8588\n",
      "Epoch 60/75\n",
      "781/781 [==============================] - 176s 226ms/step - loss: 0.5861 - acc: 0.8521 - val_loss: 0.5583 - val_acc: 0.8656\n"
     ]
    },
    {
     "name": "stdout",
     "output_type": "stream",
     "text": [
      "Epoch 61/75\n",
      "781/781 [==============================] - 176s 225ms/step - loss: 0.5841 - acc: 0.8514 - val_loss: 0.5876 - val_acc: 0.8561\n",
      "Epoch 62/75\n",
      "781/781 [==============================] - 177s 226ms/step - loss: 0.5838 - acc: 0.8521 - val_loss: 0.5769 - val_acc: 0.8618\n",
      "Epoch 63/75\n",
      "781/781 [==============================] - 177s 227ms/step - loss: 0.5946 - acc: 0.8480 - val_loss: 0.6494 - val_acc: 0.8441\n",
      "Epoch 64/75\n",
      "781/781 [==============================] - 177s 227ms/step - loss: 0.5819 - acc: 0.8525 - val_loss: 0.5922 - val_acc: 0.8560\n",
      "Epoch 65/75\n",
      "781/781 [==============================] - 177s 226ms/step - loss: 0.5832 - acc: 0.8516 - val_loss: 0.5991 - val_acc: 0.8573\n",
      "Epoch 66/75\n",
      "781/781 [==============================] - 177s 227ms/step - loss: 0.5836 - acc: 0.8518 - val_loss: 0.5849 - val_acc: 0.8608\n",
      "Epoch 67/75\n",
      "781/781 [==============================] - 179s 230ms/step - loss: 0.5857 - acc: 0.8537 - val_loss: 0.6912 - val_acc: 0.8346\n",
      "Epoch 68/75\n",
      "781/781 [==============================] - 180s 230ms/step - loss: 0.5800 - acc: 0.8532 - val_loss: 0.6070 - val_acc: 0.8493\n",
      "Epoch 69/75\n",
      "781/781 [==============================] - 179s 229ms/step - loss: 0.5794 - acc: 0.8530 - val_loss: 0.6142 - val_acc: 0.8498\n",
      "Epoch 70/75\n",
      "781/781 [==============================] - 179s 229ms/step - loss: 0.5788 - acc: 0.8533 - val_loss: 0.6017 - val_acc: 0.8561\n",
      "Epoch 71/75\n",
      "781/781 [==============================] - 179s 229ms/step - loss: 0.5838 - acc: 0.8514 - val_loss: 0.5987 - val_acc: 0.8544\n",
      "Epoch 72/75\n",
      "781/781 [==============================] - 178s 228ms/step - loss: 0.5804 - acc: 0.8530 - val_loss: 0.5821 - val_acc: 0.8605\n",
      "Epoch 73/75\n",
      "781/781 [==============================] - 178s 228ms/step - loss: 0.5731 - acc: 0.8556 - val_loss: 0.5948 - val_acc: 0.8560\n",
      "Epoch 74/75\n",
      "781/781 [==============================] - 178s 228ms/step - loss: 0.5771 - acc: 0.8537 - val_loss: 0.6261 - val_acc: 0.8467\n",
      "Epoch 75/75\n",
      "781/781 [==============================] - 178s 228ms/step - loss: 0.5774 - acc: 0.8543 - val_loss: 0.6085 - val_acc: 0.8490\n",
      "Epoch 1/25\n",
      "781/781 [==============================] - 178s 228ms/step - loss: 0.5350 - acc: 0.8668 - val_loss: 0.5551 - val_acc: 0.8665\n",
      "Epoch 2/25\n",
      "781/781 [==============================] - 177s 227ms/step - loss: 0.5213 - acc: 0.8712 - val_loss: 0.5412 - val_acc: 0.8722\n",
      "Epoch 3/25\n",
      "781/781 [==============================] - 177s 227ms/step - loss: 0.5051 - acc: 0.8755 - val_loss: 0.5631 - val_acc: 0.8648\n",
      "Epoch 4/25\n",
      "781/781 [==============================] - 177s 227ms/step - loss: 0.5058 - acc: 0.8748 - val_loss: 0.5107 - val_acc: 0.8783\n",
      "Epoch 5/25\n",
      "781/781 [==============================] - 177s 227ms/step - loss: 0.5011 - acc: 0.8750 - val_loss: 0.5318 - val_acc: 0.8716\n",
      "Epoch 6/25\n",
      "781/781 [==============================] - 177s 226ms/step - loss: 0.4922 - acc: 0.8760 - val_loss: 0.5595 - val_acc: 0.8678\n",
      "Epoch 7/25\n",
      "781/781 [==============================] - 177s 226ms/step - loss: 0.4939 - acc: 0.8775 - val_loss: 0.5314 - val_acc: 0.8753\n",
      "Epoch 8/25\n",
      "781/781 [==============================] - 177s 227ms/step - loss: 0.4847 - acc: 0.8778 - val_loss: 0.5078 - val_acc: 0.8780\n",
      "Epoch 9/25\n",
      "781/781 [==============================] - 179s 229ms/step - loss: 0.4905 - acc: 0.8763 - val_loss: 0.5423 - val_acc: 0.8668\n",
      "Epoch 10/25\n",
      "781/781 [==============================] - 179s 229ms/step - loss: 0.4824 - acc: 0.8783 - val_loss: 0.5293 - val_acc: 0.8703\n",
      "Epoch 11/25\n",
      "781/781 [==============================] - 179s 229ms/step - loss: 0.4860 - acc: 0.8771 - val_loss: 0.5363 - val_acc: 0.8699\n",
      "Epoch 12/25\n",
      "781/781 [==============================] - 179s 229ms/step - loss: 0.4779 - acc: 0.8806 - val_loss: 0.5327 - val_acc: 0.8712\n",
      "Epoch 13/25\n",
      "781/781 [==============================] - 178s 229ms/step - loss: 0.4789 - acc: 0.8787 - val_loss: 0.5008 - val_acc: 0.8772\n",
      "Epoch 14/25\n",
      "781/781 [==============================] - 178s 228ms/step - loss: 0.4745 - acc: 0.8790 - val_loss: 0.5398 - val_acc: 0.8680\n",
      "Epoch 15/25\n",
      "781/781 [==============================] - 178s 227ms/step - loss: 0.4789 - acc: 0.8764 - val_loss: 0.5084 - val_acc: 0.8774\n",
      "Epoch 16/25\n",
      "781/781 [==============================] - 177s 227ms/step - loss: 0.4726 - acc: 0.8791 - val_loss: 0.5425 - val_acc: 0.8698\n",
      "Epoch 17/25\n",
      "781/781 [==============================] - 177s 226ms/step - loss: 0.4695 - acc: 0.8792 - val_loss: 0.5125 - val_acc: 0.8746\n",
      "Epoch 18/25\n",
      "781/781 [==============================] - 176s 226ms/step - loss: 0.4730 - acc: 0.8793 - val_loss: 0.5343 - val_acc: 0.8717\n",
      "Epoch 19/25\n",
      "781/781 [==============================] - 176s 226ms/step - loss: 0.4685 - acc: 0.8819 - val_loss: 0.5006 - val_acc: 0.8776\n",
      "Epoch 20/25\n",
      "781/781 [==============================] - 176s 226ms/step - loss: 0.4679 - acc: 0.8800 - val_loss: 0.4953 - val_acc: 0.8756\n",
      "Epoch 21/25\n",
      "781/781 [==============================] - 179s 229ms/step - loss: 0.4687 - acc: 0.8802 - val_loss: 0.5093 - val_acc: 0.8762\n",
      "Epoch 22/25\n",
      "781/781 [==============================] - 179s 229ms/step - loss: 0.4652 - acc: 0.8809 - val_loss: 0.5616 - val_acc: 0.8643\n",
      "Epoch 23/25\n",
      "781/781 [==============================] - 178s 229ms/step - loss: 0.4667 - acc: 0.8803 - val_loss: 0.5205 - val_acc: 0.8699\n",
      "Epoch 24/25\n",
      "781/781 [==============================] - 178s 228ms/step - loss: 0.4563 - acc: 0.8816 - val_loss: 0.5495 - val_acc: 0.8635\n",
      "Epoch 25/25\n",
      "781/781 [==============================] - 178s 228ms/step - loss: 0.4642 - acc: 0.8810 - val_loss: 0.5874 - val_acc: 0.8591\n",
      "Epoch 1/25\n",
      "781/781 [==============================] - 178s 227ms/step - loss: 0.4411 - acc: 0.8883 - val_loss: 0.4736 - val_acc: 0.8845\n",
      "Epoch 2/25\n",
      "781/781 [==============================] - 177s 226ms/step - loss: 0.4373 - acc: 0.8898 - val_loss: 0.4858 - val_acc: 0.8802\n",
      "Epoch 3/25\n",
      "781/781 [==============================] - 177s 226ms/step - loss: 0.4292 - acc: 0.8921 - val_loss: 0.4870 - val_acc: 0.8795\n",
      "Epoch 4/25\n",
      "781/781 [==============================] - 177s 227ms/step - loss: 0.4266 - acc: 0.8912 - val_loss: 0.4711 - val_acc: 0.8863\n",
      "Epoch 5/25\n",
      "781/781 [==============================] - 178s 228ms/step - loss: 0.4260 - acc: 0.8906 - val_loss: 0.4944 - val_acc: 0.8794\n",
      "Epoch 6/25\n",
      "781/781 [==============================] - 178s 228ms/step - loss: 0.4224 - acc: 0.8915 - val_loss: 0.4809 - val_acc: 0.8862\n",
      "Epoch 7/25\n",
      "781/781 [==============================] - 177s 227ms/step - loss: 0.4175 - acc: 0.8927 - val_loss: 0.4887 - val_acc: 0.8814\n",
      "Epoch 8/25\n",
      "781/781 [==============================] - 178s 228ms/step - loss: 0.4208 - acc: 0.8932 - val_loss: 0.4824 - val_acc: 0.8811\n",
      "Epoch 9/25\n",
      "781/781 [==============================] - 179s 229ms/step - loss: 0.4200 - acc: 0.8932 - val_loss: 0.4866 - val_acc: 0.8786\n",
      "Epoch 10/25\n",
      "781/781 [==============================] - 180s 230ms/step - loss: 0.4154 - acc: 0.8929 - val_loss: 0.4596 - val_acc: 0.8897\n",
      "Epoch 11/25\n",
      "781/781 [==============================] - 179s 229ms/step - loss: 0.4141 - acc: 0.8948 - val_loss: 0.4493 - val_acc: 0.8916\n",
      "Epoch 12/25\n",
      "781/781 [==============================] - 178s 227ms/step - loss: 0.4119 - acc: 0.8950 - val_loss: 0.4520 - val_acc: 0.8886\n",
      "Epoch 13/25\n",
      "781/781 [==============================] - 178s 227ms/step - loss: 0.4099 - acc: 0.8953 - val_loss: 0.4465 - val_acc: 0.8906\n",
      "Epoch 14/25\n",
      "781/781 [==============================] - 177s 227ms/step - loss: 0.4077 - acc: 0.8954 - val_loss: 0.4471 - val_acc: 0.8900\n",
      "Epoch 15/25\n",
      "781/781 [==============================] - 177s 227ms/step - loss: 0.4100 - acc: 0.8938 - val_loss: 0.4729 - val_acc: 0.8839\n",
      "Epoch 16/25\n",
      "781/781 [==============================] - 177s 226ms/step - loss: 0.4053 - acc: 0.8945 - val_loss: 0.4812 - val_acc: 0.8802\n",
      "Epoch 17/25\n",
      "781/781 [==============================] - 176s 226ms/step - loss: 0.4091 - acc: 0.8936 - val_loss: 0.4677 - val_acc: 0.8855\n",
      "Epoch 18/25\n",
      "781/781 [==============================] - 176s 226ms/step - loss: 0.4083 - acc: 0.8935 - val_loss: 0.4614 - val_acc: 0.8839\n",
      "Epoch 19/25\n",
      "781/781 [==============================] - 177s 226ms/step - loss: 0.4014 - acc: 0.8955 - val_loss: 0.4486 - val_acc: 0.8898\n",
      "Epoch 20/25\n",
      "781/781 [==============================] - 176s 226ms/step - loss: 0.4044 - acc: 0.8951 - val_loss: 0.4686 - val_acc: 0.8843\n"
     ]
    },
    {
     "name": "stdout",
     "output_type": "stream",
     "text": [
      "Epoch 21/25\n",
      "781/781 [==============================] - 176s 226ms/step - loss: 0.4011 - acc: 0.8970 - val_loss: 0.4594 - val_acc: 0.8880\n",
      "Epoch 22/25\n",
      "781/781 [==============================] - 176s 225ms/step - loss: 0.4062 - acc: 0.8950 - val_loss: 0.4697 - val_acc: 0.8826\n",
      "Epoch 23/25\n",
      "781/781 [==============================] - 176s 226ms/step - loss: 0.4016 - acc: 0.8957 - val_loss: 0.4563 - val_acc: 0.8896\n",
      "Epoch 24/25\n",
      "781/781 [==============================] - 176s 225ms/step - loss: 0.4024 - acc: 0.8959 - val_loss: 0.4501 - val_acc: 0.8871\n",
      "Epoch 25/25\n",
      "781/781 [==============================] - 177s 226ms/step - loss: 0.3994 - acc: 0.8954 - val_loss: 0.4868 - val_acc: 0.8807\n"
     ]
    }
   ],
   "source": [
    "#training\n",
    "batch_size = 64\n",
    "epochs=25\n",
    "opt_rms = keras.optimizers.rmsprop(lr=0.001,decay=1e-6)\n",
    "model.compile(loss='categorical_crossentropy',\n",
    "        optimizer=opt_rms,\n",
    "        metrics=['accuracy'])\n",
    "hist1 = model.fit_generator(datagen.flow(x_train, y_train, batch_size=batch_size),steps_per_epoch=x_train.shape[0] // (batch_size),epochs=3*epochs,verbose=1,validation_data=(x_test,y_test))\n",
    "model.save_weights('cifar10_normal_rms_ep75.h5')\n",
    "\n",
    "opt_rms = keras.optimizers.rmsprop(lr=0.0005,decay=1e-6)\n",
    "model.compile(loss='categorical_crossentropy',\n",
    "        optimizer=opt_rms,\n",
    "        metrics=['accuracy'])\n",
    "hist2 = model.fit_generator(datagen.flow(x_train, y_train, batch_size=batch_size),steps_per_epoch=x_train.shape[0] // batch_size,epochs=epochs,verbose=1,validation_data=(x_test,y_test))\n",
    "model.save_weights('cifar10_normal_rms_ep100.h5')\n",
    "\n",
    "opt_rms = keras.optimizers.rmsprop(lr=0.0003,decay=1e-6)\n",
    "model.compile(loss='categorical_crossentropy',\n",
    "        optimizer=opt_rms,\n",
    "        metrics=['accuracy'])\n",
    "hist3 = model.fit_generator(datagen.flow(x_train, y_train, batch_size=batch_size),steps_per_epoch=x_train.shape[0] // batch_size,epochs=epochs,verbose=1,validation_data=(x_test,y_test))\n",
    "model.save_weights('cifar10_normal_rms_ep125.h5')\n",
    "\n",
    "\n"
   ]
  },
  {
   "cell_type": "code",
   "execution_count": 10,
   "metadata": {
    "colab": {},
    "colab_type": "code",
    "id": "bol61qMdMQ1G"
   },
   "outputs": [
    {
     "name": "stdout",
     "output_type": "stream",
     "text": [
      "10000/10000 [==============================] - 13s 1ms/step\n",
      "\n",
      "Test result: 88.070 loss: 0.487\n"
     ]
    }
   ],
   "source": [
    "#save to disk\n",
    "model_json = model.to_json()\n",
    "with open('model.json', 'w') as json_file:\n",
    "    json_file.write(model_json)\n",
    "\n",
    "model.save_weights('model.h5')    \n",
    "\n",
    "#testing\n",
    "scores = model.evaluate(x_test, y_test, batch_size=128, verbose=1)\n",
    "print('\\nTest result: %.3f loss: %.3f' % (scores[1]*100,scores[0]))"
   ]
  },
  {
   "cell_type": "code",
   "execution_count": 18,
   "metadata": {},
   "outputs": [
    {
     "data": {
      "text/plain": [
       "<keras.layers.convolutional.Conv2D at 0x7f7d1a3cd0f0>"
      ]
     },
     "execution_count": 18,
     "metadata": {},
     "output_type": "execute_result"
    }
   ],
   "source": [
    "top_layer = model.layers[0]\n",
    "top_layer"
   ]
  },
  {
   "cell_type": "code",
   "execution_count": 19,
   "metadata": {},
   "outputs": [
    {
     "data": {
      "text/plain": [
       "<matplotlib.image.AxesImage at 0x7f7ce8604780>"
      ]
     },
     "execution_count": 19,
     "metadata": {},
     "output_type": "execute_result"
    },
    {
     "data": {
      "image/png": "[encoded data removed]",
      "text/plain": [
       "<Figure size 432x288 with 1 Axes>"
      ]
     },
     "metadata": {
      "needs_background": "light"
     },
     "output_type": "display_data"
    }
   ],
   "source": [
    "import matplotlib.pyplot as plt\n",
    "plt.imshow(top_layer.get_weights()[0][2:, :, :, 30].squeeze(), cmap='gray')"
   ]
  },
  {
   "cell_type": "code",
   "execution_count": 20,
   "metadata": {},
   "outputs": [],
   "source": [
    "history = model.history"
   ]
  },
  {
   "cell_type": "code",
   "execution_count": 21,
   "metadata": {},
   "outputs": [
    {
     "data": {
      "image/png": "[encoded data removed]",
      "text/plain": [
       "<Figure size 432x288 with 1 Axes>"
      ]
     },
     "metadata": {
      "needs_background": "light"
     },
     "output_type": "display_data"
    },
    {
     "data": {
      "image/png": "[encoded data removed]",
      "text/plain": [
       "<Figure size 432x288 with 1 Axes>"
      ]
     },
     "metadata": {
      "needs_background": "light"
     },
     "output_type": "display_data"
    }
   ],
   "source": [
    "import matplotlib.pyplot as plt\n",
    "# 绘制训练 & 验证的准确率值\n",
    "plt.plot(history.history['acc'])\n",
    "plt.plot(history.history['val_acc'])\n",
    "plt.title('Model accuracy')\n",
    "plt.ylabel('Accuracy')\n",
    "plt.xlabel('Epoch')\n",
    "plt.legend(['Train', 'Test'], loc='upper left')\n",
    "plt.show()\n",
    "\n",
    "# 绘制训练 & 验证的损失值\n",
    "plt.plot(history.history['loss'])\n",
    "plt.plot(history.history['val_loss'])\n",
    "plt.title('Model loss')\n",
    "plt.ylabel('Loss')\n",
    "plt.xlabel('Epoch')\n",
    "plt.legend(['Train', 'Test'], loc='upper left')\n",
    "plt.show()\n"
   ]
  },
  {
   "cell_type": "code",
   "execution_count": null,
   "metadata": {},
   "outputs": [],
   "source": []
  }
 ],
 "metadata": {
  "colab": {
   "name": "Untitled2.ipynb",
   "provenance": [],
   "version": "0.3.2"
  },
  "kernelspec": {
   "display_name": "Python 3",
   "language": "python",
   "name": "python3"
  },
  "language_info": {
   "codemirror_mode": {
    "name": "ipython",
    "version": 3
   },
   "file_extension": ".py",
   "mimetype": "text/x-python",
   "name": "python",
   "nbconvert_exporter": "python",
   "pygments_lexer": "ipython3",
   "version": "3.6.8"
  }
 },
 "nbformat": 4,
 "nbformat_minor": 1
}
