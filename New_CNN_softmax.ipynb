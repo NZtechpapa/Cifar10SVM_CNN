{
 "cells": [
  {
   "cell_type": "code",
   "execution_count": 2,
   "metadata": {
    "colab": {},
    "colab_type": "code",
    "id": "RgCmaNtELWcf"
   },
   "outputs": [
    {
     "name": "stderr",
     "output_type": "stream",
     "text": [
      "Using TensorFlow backend.\n"
     ]
    }
   ],
   "source": [
    "import keras\n",
    "from keras.models import Sequential\n",
    "from keras.utils import np_utils\n",
    "from keras.preprocessing.image import ImageDataGenerator\n",
    "from keras.layers import Dense, Activation, Flatten, Dropout, BatchNormalization\n",
    "from keras.layers import Conv2D, MaxPooling2D\n",
    "from keras.datasets import cifar10\n",
    "from keras import regularizers\n",
    "from keras.callbacks import LearningRateScheduler\n",
    "import numpy as np"
   ]
  },
  {
   "cell_type": "code",
   "execution_count": 3,
   "metadata": {
    "colab": {},
    "colab_type": "code",
    "id": "oS3YtyW6LylX"
   },
   "outputs": [],
   "source": [
    "def lr_schedule(epoch):\n",
    "    lrate = 0.001\n",
    "    if epoch > 75:\n",
    "        lrate = 0.0005\n",
    "    elif epoch > 100:\n",
    "        lrate = 0.0003        \n",
    "    return lrate"
   ]
  },
  {
   "cell_type": "code",
   "execution_count": 4,
   "metadata": {
    "colab": {},
    "colab_type": "code",
    "id": "0YR14RboL092"
   },
   "outputs": [
    {
     "name": "stdout",
     "output_type": "stream",
     "text": [
      "Downloading data from https://www.cs.toronto.edu/~kriz/cifar-10-python.tar.gz\n",
      "170500096/170498071 [==============================] - 27s 0us/step\n"
     ]
    }
   ],
   "source": [
    "(x_train, y_train), (x_test, y_test) = cifar10.load_data()\n",
    "x_train = x_train.astype('float32')\n",
    "x_test = x_test.astype('float32')\n"
   ]
  },
  {
   "cell_type": "code",
   "execution_count": 5,
   "metadata": {
    "colab": {},
    "colab_type": "code",
    "id": "owhH_qeQL2iK"
   },
   "outputs": [],
   "source": [
    "#z-score\n",
    "mean = np.mean(x_train,axis=(0,1,2,3))\n",
    "std = np.std(x_train,axis=(0,1,2,3))\n",
    "x_train = (x_train-mean)/(std+1e-7)\n",
    "x_test = (x_test-mean)/(std+1e-7)\n"
   ]
  },
  {
   "cell_type": "code",
   "execution_count": 6,
   "metadata": {
    "colab": {},
    "colab_type": "code",
    "id": "_bcoHpJHL4O-"
   },
   "outputs": [],
   "source": [
    "num_classes = 10\n",
    "y_train = np_utils.to_categorical(y_train,num_classes)\n",
    "y_test = np_utils.to_categorical(y_test,num_classes)"
   ]
  },
  {
   "cell_type": "code",
   "execution_count": 7,
   "metadata": {
    "colab": {},
    "colab_type": "code",
    "id": "5trHgDGhL7Hc"
   },
   "outputs": [
    {
     "name": "stdout",
     "output_type": "stream",
     "text": [
      "_________________________________________________________________\n",
      "Layer (type)                 Output Shape              Param #   \n",
      "=================================================================\n",
      "conv2d_1 (Conv2D)            (None, 32, 32, 32)        896       \n",
      "_________________________________________________________________\n",
      "activation_1 (Activation)    (None, 32, 32, 32)        0         \n",
      "_________________________________________________________________\n",
      "batch_normalization_1 (Batch (None, 32, 32, 32)        128       \n",
      "_________________________________________________________________\n",
      "conv2d_2 (Conv2D)            (None, 32, 32, 32)        9248      \n",
      "_________________________________________________________________\n",
      "activation_2 (Activation)    (None, 32, 32, 32)        0         \n",
      "_________________________________________________________________\n",
      "batch_normalization_2 (Batch (None, 32, 32, 32)        128       \n",
      "_________________________________________________________________\n",
      "max_pooling2d_1 (MaxPooling2 (None, 16, 16, 32)        0         \n",
      "_________________________________________________________________\n",
      "dropout_1 (Dropout)          (None, 16, 16, 32)        0         \n",
      "_________________________________________________________________\n",
      "conv2d_3 (Conv2D)            (None, 16, 16, 64)        18496     \n",
      "_________________________________________________________________\n",
      "activation_3 (Activation)    (None, 16, 16, 64)        0         \n",
      "_________________________________________________________________\n",
      "batch_normalization_3 (Batch (None, 16, 16, 64)        256       \n",
      "_________________________________________________________________\n",
      "conv2d_4 (Conv2D)            (None, 16, 16, 64)        36928     \n",
      "_________________________________________________________________\n",
      "activation_4 (Activation)    (None, 16, 16, 64)        0         \n",
      "_________________________________________________________________\n",
      "batch_normalization_4 (Batch (None, 16, 16, 64)        256       \n",
      "_________________________________________________________________\n",
      "max_pooling2d_2 (MaxPooling2 (None, 8, 8, 64)          0         \n",
      "_________________________________________________________________\n",
      "dropout_2 (Dropout)          (None, 8, 8, 64)          0         \n",
      "_________________________________________________________________\n",
      "conv2d_5 (Conv2D)            (None, 8, 8, 128)         73856     \n",
      "_________________________________________________________________\n",
      "activation_5 (Activation)    (None, 8, 8, 128)         0         \n",
      "_________________________________________________________________\n",
      "batch_normalization_5 (Batch (None, 8, 8, 128)         512       \n",
      "_________________________________________________________________\n",
      "conv2d_6 (Conv2D)            (None, 8, 8, 128)         147584    \n",
      "_________________________________________________________________\n",
      "activation_6 (Activation)    (None, 8, 8, 128)         0         \n",
      "_________________________________________________________________\n",
      "batch_normalization_6 (Batch (None, 8, 8, 128)         512       \n",
      "_________________________________________________________________\n",
      "max_pooling2d_3 (MaxPooling2 (None, 4, 4, 128)         0         \n",
      "_________________________________________________________________\n",
      "dropout_3 (Dropout)          (None, 4, 4, 128)         0         \n",
      "_________________________________________________________________\n",
      "flatten_1 (Flatten)          (None, 2048)              0         \n",
      "_________________________________________________________________\n",
      "dense_1 (Dense)              (None, 10)                20490     \n",
      "=================================================================\n",
      "Total params: 309,290\n",
      "Trainable params: 308,394\n",
      "Non-trainable params: 896\n",
      "_________________________________________________________________\n"
     ]
    }
   ],
   "source": [
    "\n",
    "weight_decay = 1e-4\n",
    "model = Sequential()\n",
    "model.add(Conv2D(32, (3,3), padding='same', kernel_regularizer=regularizers.l2(weight_decay), input_shape=x_train.shape[1:]))\n",
    "model.add(Activation('elu'))\n",
    "model.add(BatchNormalization())\n",
    "model.add(Conv2D(32, (3,3), padding='same', kernel_regularizer=regularizers.l2(weight_decay)))\n",
    "model.add(Activation('elu'))\n",
    "model.add(BatchNormalization())\n",
    "model.add(MaxPooling2D(pool_size=(2,2)))\n",
    "model.add(Dropout(0.2))\n",
    "\n",
    "model.add(Conv2D(64, (3,3), padding='same', kernel_regularizer=regularizers.l2(weight_decay)))\n",
    "model.add(Activation('elu'))\n",
    "model.add(BatchNormalization())\n",
    "model.add(Conv2D(64, (3,3), padding='same', kernel_regularizer=regularizers.l2(weight_decay)))\n",
    "model.add(Activation('elu'))\n",
    "model.add(BatchNormalization())\n",
    "model.add(MaxPooling2D(pool_size=(2,2)))\n",
    "model.add(Dropout(0.3))\n",
    "\n",
    "model.add(Conv2D(128, (3,3), padding='same', kernel_regularizer=regularizers.l2(weight_decay)))\n",
    "model.add(Activation('elu'))\n",
    "model.add(BatchNormalization())\n",
    "model.add(Conv2D(128, (3,3), padding='same', kernel_regularizer=regularizers.l2(weight_decay)))\n",
    "model.add(Activation('elu'))\n",
    "model.add(BatchNormalization())\n",
    "model.add(MaxPooling2D(pool_size=(2,2)))\n",
    "model.add(Dropout(0.4))\n",
    "\n",
    "model.add(Flatten())\n",
    "model.add(Dense(num_classes, activation='softmax'))\n",
    "\n",
    "model.summary()"
   ]
  },
  {
   "cell_type": "code",
   "execution_count": 8,
   "metadata": {
    "colab": {},
    "colab_type": "code",
    "id": "yRtQFAI4L9j7"
   },
   "outputs": [],
   "source": [
    "#data augmentation\n",
    "datagen = ImageDataGenerator(\n",
    "    rotation_range=15,\n",
    "    width_shift_range=0.1,\n",
    "    height_shift_range=0.1,\n",
    "    horizontal_flip=True,\n",
    "    )\n",
    "datagen.fit(x_train)"
   ]
  },
  {
   "cell_type": "code",
   "execution_count": 9,
   "metadata": {
    "colab": {},
    "colab_type": "code",
    "id": "criRkp0fMOmO",
    "scrolled": true
   },
   "outputs": [
    {
     "name": "stdout",
     "output_type": "stream",
     "text": [
      "Epoch 1/100\n",
      "781/781 [==============================] - 178s 228ms/step - loss: 1.8777 - acc: 0.4307 - val_loss: 1.3583 - val_acc: 0.5956\n",
      "Epoch 2/100\n",
      "781/781 [==============================] - 178s 228ms/step - loss: 1.2482 - acc: 0.5986 - val_loss: 1.3860 - val_acc: 0.6168\n",
      "Epoch 3/100\n",
      "781/781 [==============================] - 178s 227ms/step - loss: 1.0716 - acc: 0.6558 - val_loss: 1.0290 - val_acc: 0.6917\n",
      "Epoch 4/100\n",
      "781/781 [==============================] - 178s 228ms/step - loss: 0.9684 - acc: 0.6935 - val_loss: 0.8218 - val_acc: 0.7541\n",
      "Epoch 5/100\n",
      "781/781 [==============================] - 178s 228ms/step - loss: 0.9023 - acc: 0.7185 - val_loss: 0.8201 - val_acc: 0.7621\n",
      "Epoch 6/100\n",
      "781/781 [==============================] - 178s 227ms/step - loss: 0.8568 - acc: 0.7384 - val_loss: 0.7786 - val_acc: 0.7725\n",
      "Epoch 7/100\n",
      "781/781 [==============================] - 177s 227ms/step - loss: 0.8242 - acc: 0.7516 - val_loss: 0.7711 - val_acc: 0.7741\n",
      "Epoch 8/100\n",
      "781/781 [==============================] - 177s 227ms/step - loss: 0.7926 - acc: 0.7616 - val_loss: 0.8039 - val_acc: 0.7704\n",
      "Epoch 9/100\n",
      "781/781 [==============================] - 177s 227ms/step - loss: 0.7750 - acc: 0.7704 - val_loss: 0.7532 - val_acc: 0.7851\n",
      "Epoch 10/100\n",
      "781/781 [==============================] - 177s 227ms/step - loss: 0.7569 - acc: 0.7781 - val_loss: 0.7409 - val_acc: 0.7926\n",
      "Epoch 11/100\n",
      "781/781 [==============================] - 177s 227ms/step - loss: 0.7385 - acc: 0.7855 - val_loss: 0.7014 - val_acc: 0.8085\n",
      "Epoch 12/100\n",
      "781/781 [==============================] - 177s 227ms/step - loss: 0.7252 - acc: 0.7904 - val_loss: 0.7576 - val_acc: 0.7931\n",
      "Epoch 13/100\n",
      "781/781 [==============================] - 177s 227ms/step - loss: 0.7214 - acc: 0.7941 - val_loss: 0.7032 - val_acc: 0.8079\n",
      "Epoch 14/100\n",
      "781/781 [==============================] - 178s 227ms/step - loss: 0.7095 - acc: 0.8009 - val_loss: 0.6914 - val_acc: 0.8088\n",
      "Epoch 15/100\n",
      "781/781 [==============================] - 178s 228ms/step - loss: 0.6946 - acc: 0.8053 - val_loss: 0.7085 - val_acc: 0.8112\n",
      "Epoch 16/100\n",
      "781/781 [==============================] - 178s 228ms/step - loss: 0.6898 - acc: 0.8068 - val_loss: 0.6308 - val_acc: 0.8363\n",
      "Epoch 17/100\n",
      "781/781 [==============================] - 179s 230ms/step - loss: 0.6802 - acc: 0.8114 - val_loss: 0.8018 - val_acc: 0.7905\n",
      "Epoch 18/100\n",
      "781/781 [==============================] - 179s 230ms/step - loss: 0.6710 - acc: 0.8149 - val_loss: 0.7004 - val_acc: 0.8116\n",
      "Epoch 19/100\n",
      "781/781 [==============================] - 180s 230ms/step - loss: 0.6723 - acc: 0.8160 - val_loss: 0.6686 - val_acc: 0.8194\n",
      "Epoch 20/100\n",
      "781/781 [==============================] - 180s 231ms/step - loss: 0.6662 - acc: 0.8179 - val_loss: 0.5964 - val_acc: 0.8447\n",
      "Epoch 21/100\n",
      "781/781 [==============================] - 180s 230ms/step - loss: 0.6645 - acc: 0.8169 - val_loss: 0.6173 - val_acc: 0.8366\n",
      "Epoch 22/100\n",
      "781/781 [==============================] - 179s 229ms/step - loss: 0.6542 - acc: 0.8232 - val_loss: 0.6676 - val_acc: 0.8199\n",
      "Epoch 23/100\n",
      "781/781 [==============================] - 179s 229ms/step - loss: 0.6487 - acc: 0.8242 - val_loss: 0.5953 - val_acc: 0.8441\n",
      "Epoch 24/100\n",
      "781/781 [==============================] - 179s 229ms/step - loss: 0.6485 - acc: 0.8253 - val_loss: 0.6572 - val_acc: 0.8241\n",
      "Epoch 25/100\n",
      "781/781 [==============================] - 179s 229ms/step - loss: 0.6463 - acc: 0.8254 - val_loss: 0.6254 - val_acc: 0.8417\n",
      "Epoch 26/100\n",
      "781/781 [==============================] - 180s 230ms/step - loss: 0.6389 - acc: 0.8277 - val_loss: 0.6330 - val_acc: 0.8367\n",
      "Epoch 27/100\n",
      "781/781 [==============================] - 179s 230ms/step - loss: 0.6428 - acc: 0.8280 - val_loss: 0.7355 - val_acc: 0.8113\n",
      "Epoch 28/100\n",
      "781/781 [==============================] - 179s 229ms/step - loss: 0.6358 - acc: 0.8286 - val_loss: 0.6515 - val_acc: 0.8344\n",
      "Epoch 29/100\n",
      "781/781 [==============================] - 178s 228ms/step - loss: 0.6319 - acc: 0.8310 - val_loss: 0.5899 - val_acc: 0.8509\n",
      "Epoch 30/100\n",
      "781/781 [==============================] - 178s 228ms/step - loss: 0.6293 - acc: 0.8332 - val_loss: 0.6047 - val_acc: 0.8422\n",
      "Epoch 31/100\n",
      "781/781 [==============================] - 178s 228ms/step - loss: 0.6269 - acc: 0.8335 - val_loss: 0.6378 - val_acc: 0.8404\n",
      "Epoch 32/100\n",
      "781/781 [==============================] - 180s 230ms/step - loss: 0.6303 - acc: 0.8327 - val_loss: 0.6100 - val_acc: 0.8439\n",
      "Epoch 33/100\n",
      "781/781 [==============================] - 179s 229ms/step - loss: 0.6211 - acc: 0.8374 - val_loss: 0.5767 - val_acc: 0.8579\n",
      "Epoch 34/100\n",
      "781/781 [==============================] - 178s 228ms/step - loss: 0.6181 - acc: 0.8364 - val_loss: 0.5694 - val_acc: 0.8581\n",
      "Epoch 35/100\n",
      "781/781 [==============================] - 178s 228ms/step - loss: 0.6210 - acc: 0.8370 - val_loss: 0.5665 - val_acc: 0.8575\n",
      "Epoch 36/100\n",
      "781/781 [==============================] - 177s 227ms/step - loss: 0.6120 - acc: 0.8398 - val_loss: 0.5933 - val_acc: 0.8519\n",
      "Epoch 37/100\n",
      "781/781 [==============================] - 178s 228ms/step - loss: 0.6134 - acc: 0.8399 - val_loss: 0.6209 - val_acc: 0.8408\n",
      "Epoch 38/100\n",
      "781/781 [==============================] - 180s 230ms/step - loss: 0.6123 - acc: 0.8397 - val_loss: 0.5556 - val_acc: 0.8644\n",
      "Epoch 39/100\n",
      "781/781 [==============================] - 178s 229ms/step - loss: 0.6091 - acc: 0.8431 - val_loss: 0.6146 - val_acc: 0.8493\n",
      "Epoch 40/100\n",
      "781/781 [==============================] - 178s 227ms/step - loss: 0.6150 - acc: 0.8399 - val_loss: 0.6938 - val_acc: 0.8270\n",
      "Epoch 41/100\n",
      "781/781 [==============================] - 178s 227ms/step - loss: 0.6079 - acc: 0.8405 - val_loss: 0.5576 - val_acc: 0.8647\n",
      "Epoch 42/100\n",
      "781/781 [==============================] - 177s 227ms/step - loss: 0.6072 - acc: 0.8431 - val_loss: 0.6306 - val_acc: 0.8413\n",
      "Epoch 43/100\n",
      "781/781 [==============================] - 177s 227ms/step - loss: 0.6069 - acc: 0.8427 - val_loss: 0.7056 - val_acc: 0.8282\n",
      "Epoch 44/100\n",
      "781/781 [==============================] - 177s 227ms/step - loss: 0.6046 - acc: 0.8443 - val_loss: 0.6059 - val_acc: 0.8437\n",
      "Epoch 45/100\n",
      "781/781 [==============================] - 179s 229ms/step - loss: 0.6010 - acc: 0.8442 - val_loss: 0.6204 - val_acc: 0.8449\n",
      "Epoch 46/100\n",
      "781/781 [==============================] - 180s 230ms/step - loss: 0.6021 - acc: 0.8450 - val_loss: 0.6398 - val_acc: 0.8419\n",
      "Epoch 47/100\n",
      "781/781 [==============================] - 179s 229ms/step - loss: 0.5972 - acc: 0.8459 - val_loss: 0.6328 - val_acc: 0.8434\n",
      "Epoch 48/100\n",
      "781/781 [==============================] - 178s 228ms/step - loss: 0.6002 - acc: 0.8451 - val_loss: 0.5849 - val_acc: 0.8568\n",
      "Epoch 49/100\n",
      "781/781 [==============================] - 178s 228ms/step - loss: 0.6005 - acc: 0.8451 - val_loss: 0.5855 - val_acc: 0.8549\n",
      "Epoch 50/100\n",
      "781/781 [==============================] - 178s 227ms/step - loss: 0.5915 - acc: 0.8491 - val_loss: 0.5762 - val_acc: 0.8612\n",
      "Epoch 51/100\n",
      "781/781 [==============================] - 177s 227ms/step - loss: 0.5966 - acc: 0.8450 - val_loss: 0.6524 - val_acc: 0.8377\n",
      "Epoch 52/100\n",
      "781/781 [==============================] - 177s 227ms/step - loss: 0.5968 - acc: 0.8463 - val_loss: 0.6284 - val_acc: 0.8424\n",
      "Epoch 53/100\n",
      "781/781 [==============================] - 177s 227ms/step - loss: 0.5872 - acc: 0.8492 - val_loss: 0.6362 - val_acc: 0.8461\n",
      "Epoch 54/100\n",
      "781/781 [==============================] - 177s 226ms/step - loss: 0.5957 - acc: 0.8455 - val_loss: 0.6053 - val_acc: 0.8538\n",
      "Epoch 55/100\n",
      "781/781 [==============================] - 177s 227ms/step - loss: 0.5934 - acc: 0.8475 - val_loss: 0.5609 - val_acc: 0.8599\n",
      "Epoch 56/100\n",
      "781/781 [==============================] - 180s 230ms/step - loss: 0.5866 - acc: 0.8510 - val_loss: 0.5718 - val_acc: 0.8592\n",
      "Epoch 57/100\n",
      "781/781 [==============================] - 179s 229ms/step - loss: 0.5894 - acc: 0.8491 - val_loss: 0.6224 - val_acc: 0.8455\n",
      "Epoch 58/100\n",
      "781/781 [==============================] - 179s 229ms/step - loss: 0.5902 - acc: 0.8498 - val_loss: 0.6002 - val_acc: 0.8551\n",
      "Epoch 59/100\n",
      "781/781 [==============================] - 179s 229ms/step - loss: 0.5873 - acc: 0.8508 - val_loss: 0.5963 - val_acc: 0.8513\n",
      "Epoch 60/100\n"
     ]
    },
    {
     "name": "stdout",
     "output_type": "stream",
     "text": [
      "781/781 [==============================] - 178s 228ms/step - loss: 0.5852 - acc: 0.8506 - val_loss: 0.6208 - val_acc: 0.8491\n",
      "Epoch 61/100\n",
      "781/781 [==============================] - 178s 228ms/step - loss: 0.5847 - acc: 0.8501 - val_loss: 0.5520 - val_acc: 0.8659\n",
      "Epoch 62/100\n",
      "781/781 [==============================] - 178s 228ms/step - loss: 0.5855 - acc: 0.8510 - val_loss: 0.6419 - val_acc: 0.8409\n",
      "Epoch 63/100\n",
      "781/781 [==============================] - 178s 228ms/step - loss: 0.5819 - acc: 0.8500 - val_loss: 0.6331 - val_acc: 0.8426\n",
      "Epoch 64/100\n",
      "781/781 [==============================] - 178s 228ms/step - loss: 0.5806 - acc: 0.8528 - val_loss: 0.6472 - val_acc: 0.8356\n",
      "Epoch 65/100\n",
      "781/781 [==============================] - 178s 228ms/step - loss: 0.5802 - acc: 0.8532 - val_loss: 0.6238 - val_acc: 0.8467\n",
      "Epoch 66/100\n",
      "781/781 [==============================] - 178s 227ms/step - loss: 0.5842 - acc: 0.8515 - val_loss: 0.6099 - val_acc: 0.8491\n",
      "Epoch 67/100\n",
      "781/781 [==============================] - 177s 227ms/step - loss: 0.5756 - acc: 0.8539 - val_loss: 0.5922 - val_acc: 0.8605\n",
      "Epoch 68/100\n",
      "781/781 [==============================] - 177s 227ms/step - loss: 0.5837 - acc: 0.8517 - val_loss: 0.5572 - val_acc: 0.8628\n",
      "Epoch 69/100\n",
      "781/781 [==============================] - 177s 227ms/step - loss: 0.5801 - acc: 0.8525 - val_loss: 0.5436 - val_acc: 0.8682\n",
      "Epoch 70/100\n",
      "781/781 [==============================] - 177s 226ms/step - loss: 0.5754 - acc: 0.8552 - val_loss: 0.7004 - val_acc: 0.8258\n",
      "Epoch 71/100\n",
      "781/781 [==============================] - 177s 227ms/step - loss: 0.5743 - acc: 0.8552 - val_loss: 0.6125 - val_acc: 0.8548\n",
      "Epoch 72/100\n",
      "781/781 [==============================] - 180s 230ms/step - loss: 0.5803 - acc: 0.8534 - val_loss: 0.5889 - val_acc: 0.8555\n",
      "Epoch 73/100\n",
      "781/781 [==============================] - 179s 230ms/step - loss: 0.5745 - acc: 0.8541 - val_loss: 0.6084 - val_acc: 0.8550\n",
      "Epoch 74/100\n",
      "781/781 [==============================] - 179s 230ms/step - loss: 0.5795 - acc: 0.8522 - val_loss: 0.6295 - val_acc: 0.8453\n",
      "Epoch 75/100\n",
      "781/781 [==============================] - 179s 229ms/step - loss: 0.5732 - acc: 0.8556 - val_loss: 0.6057 - val_acc: 0.8518\n",
      "Epoch 76/100\n",
      "781/781 [==============================] - 178s 228ms/step - loss: 0.5793 - acc: 0.8551 - val_loss: 0.5903 - val_acc: 0.8572\n",
      "Epoch 77/100\n",
      "781/781 [==============================] - 178s 228ms/step - loss: 0.5286 - acc: 0.8712 - val_loss: 0.5361 - val_acc: 0.8750\n",
      "Epoch 78/100\n",
      "781/781 [==============================] - 178s 228ms/step - loss: 0.5133 - acc: 0.8738 - val_loss: 0.5411 - val_acc: 0.8703\n",
      "Epoch 79/100\n",
      "781/781 [==============================] - 178s 228ms/step - loss: 0.5098 - acc: 0.8732 - val_loss: 0.5119 - val_acc: 0.8796\n",
      "Epoch 80/100\n",
      "781/781 [==============================] - 178s 228ms/step - loss: 0.5007 - acc: 0.8765 - val_loss: 0.5268 - val_acc: 0.8741\n",
      "Epoch 81/100\n",
      "781/781 [==============================] - 178s 228ms/step - loss: 0.4924 - acc: 0.8768 - val_loss: 0.5268 - val_acc: 0.8712\n",
      "Epoch 82/100\n",
      "781/781 [==============================] - 177s 227ms/step - loss: 0.4886 - acc: 0.8791 - val_loss: 0.5230 - val_acc: 0.8758\n",
      "Epoch 83/100\n",
      "781/781 [==============================] - 177s 227ms/step - loss: 0.4858 - acc: 0.8798 - val_loss: 0.5449 - val_acc: 0.8645\n",
      "Epoch 84/100\n",
      "781/781 [==============================] - 178s 227ms/step - loss: 0.4820 - acc: 0.8790 - val_loss: 0.5376 - val_acc: 0.8706\n",
      "Epoch 85/100\n",
      "781/781 [==============================] - 178s 228ms/step - loss: 0.4832 - acc: 0.8784 - val_loss: 0.4904 - val_acc: 0.8808\n",
      "Epoch 86/100\n",
      "781/781 [==============================] - 178s 228ms/step - loss: 0.4804 - acc: 0.8770 - val_loss: 0.4913 - val_acc: 0.8807\n",
      "Epoch 87/100\n",
      "781/781 [==============================] - 178s 228ms/step - loss: 0.4738 - acc: 0.8798 - val_loss: 0.5165 - val_acc: 0.8785\n",
      "Epoch 88/100\n",
      "781/781 [==============================] - 181s 231ms/step - loss: 0.4679 - acc: 0.8821 - val_loss: 0.5076 - val_acc: 0.8762\n",
      "Epoch 89/100\n",
      "781/781 [==============================] - 180s 231ms/step - loss: 0.4671 - acc: 0.8812 - val_loss: 0.5312 - val_acc: 0.8687\n",
      "Epoch 90/100\n",
      "781/781 [==============================] - 180s 230ms/step - loss: 0.4700 - acc: 0.8808 - val_loss: 0.5403 - val_acc: 0.8617\n",
      "Epoch 91/100\n",
      "781/781 [==============================] - 178s 228ms/step - loss: 0.4650 - acc: 0.8827 - val_loss: 0.5135 - val_acc: 0.8781\n",
      "Epoch 92/100\n",
      "781/781 [==============================] - 178s 228ms/step - loss: 0.4637 - acc: 0.8819 - val_loss: 0.4576 - val_acc: 0.8881\n",
      "Epoch 93/100\n",
      "781/781 [==============================] - 178s 228ms/step - loss: 0.4689 - acc: 0.8788 - val_loss: 0.4976 - val_acc: 0.8780\n",
      "Epoch 94/100\n",
      "781/781 [==============================] - 178s 228ms/step - loss: 0.4634 - acc: 0.8815 - val_loss: 0.5104 - val_acc: 0.8733\n",
      "Epoch 95/100\n",
      "781/781 [==============================] - 177s 227ms/step - loss: 0.4618 - acc: 0.8811 - val_loss: 0.4966 - val_acc: 0.8803\n",
      "Epoch 96/100\n",
      "781/781 [==============================] - 177s 227ms/step - loss: 0.4635 - acc: 0.8805 - val_loss: 0.5010 - val_acc: 0.8782\n",
      "Epoch 97/100\n",
      "781/781 [==============================] - 179s 229ms/step - loss: 0.4619 - acc: 0.8810 - val_loss: 0.4932 - val_acc: 0.8752\n",
      "Epoch 98/100\n",
      "781/781 [==============================] - 180s 230ms/step - loss: 0.4528 - acc: 0.8845 - val_loss: 0.4734 - val_acc: 0.8822\n",
      "Epoch 99/100\n",
      "781/781 [==============================] - 179s 229ms/step - loss: 0.4625 - acc: 0.8814 - val_loss: 0.4849 - val_acc: 0.8780\n",
      "Epoch 100/100\n",
      "781/781 [==============================] - 179s 229ms/step - loss: 0.4571 - acc: 0.8827 - val_loss: 0.5473 - val_acc: 0.8603\n"
     ]
    },
    {
     "data": {
      "text/plain": [
       "<keras.callbacks.History at 0x7f7bad662400>"
      ]
     },
     "execution_count": 9,
     "metadata": {},
     "output_type": "execute_result"
    }
   ],
   "source": [
    "\n",
    "#training\n",
    "batch_size = 64\n",
    "\n",
    "opt_rms = keras.optimizers.rmsprop(lr=0.001,decay=1e-6)\n",
    "model.compile(loss='categorical_crossentropy', optimizer=opt_rms, metrics=['accuracy'])\n",
    "history = model.fit_generator(datagen.flow(x_train, y_train, batch_size=batch_size),\\\n",
    "                    steps_per_epoch=x_train.shape[0] // batch_size,epochs=100,\\\n",
    "                    verbose=1,validation_data=(x_test,y_test),callbacks=[LearningRateScheduler(lr_schedule)])"
   ]
  },
  {
   "cell_type": "code",
   "execution_count": 10,
   "metadata": {
    "colab": {},
    "colab_type": "code",
    "id": "bol61qMdMQ1G"
   },
   "outputs": [
    {
     "name": "stdout",
     "output_type": "stream",
     "text": [
      "10000/10000 [==============================] - 13s 1ms/step\n",
      "\n",
      "Test result: 86.030 loss: 0.547\n"
     ]
    }
   ],
   "source": [
    "#save to disk\n",
    "model_json = model.to_json()\n",
    "with open('model.json', 'w') as json_file:\n",
    "    json_file.write(model_json)\n",
    "\n",
    "model.save_weights('model.h5')    \n",
    "\n",
    "#testing\n",
    "scores = model.evaluate(x_test, y_test, batch_size=128, verbose=1)\n",
    "print('\\nTest result: %.3f loss: %.3f' % (scores[1]*100,scores[0]))"
   ]
  },
  {
   "cell_type": "code",
   "execution_count": 13,
   "metadata": {},
   "outputs": [
    {
     "data": {
      "text/plain": [
       "<keras.layers.convolutional.Conv2D at 0x7f7bad673978>"
      ]
     },
     "execution_count": 13,
     "metadata": {},
     "output_type": "execute_result"
    }
   ],
   "source": [
    "top_layer = model.layers[0]\n",
    "top_layer"
   ]
  },
  {
   "cell_type": "code",
   "execution_count": 24,
   "metadata": {},
   "outputs": [
    {
     "data": {
      "text/plain": [
       "<matplotlib.image.AxesImage at 0x7f7b27e6b8d0>"
      ]
     },
     "execution_count": 24,
     "metadata": {},
     "output_type": "execute_result"
    },
    {
     "data": {
      "image/png": "[encoded data removed]",
      "text/plain": [
       "<Figure size 432x288 with 1 Axes>"
      ]
     },
     "metadata": {
      "needs_background": "light"
     },
     "output_type": "display_data"
    }
   ],
   "source": [
    "import matplotlib.pyplot as plt\n",
    "plt.imshow(top_layer.get_weights()[0][2:, :, :, 30].squeeze(), cmap='gray')"
   ]
  },
  {
   "cell_type": "code",
   "execution_count": 42,
   "metadata": {},
   "outputs": [],
   "source": [
    "history = model.history"
   ]
  },
  {
   "cell_type": "code",
   "execution_count": 44,
   "metadata": {},
   "outputs": [
    {
     "data": {
      "image/png": "[encoded data removed]",
      "text/plain": [
       "<Figure size 432x288 with 1 Axes>"
      ]
     },
     "metadata": {
      "needs_background": "light"
     },
     "output_type": "display_data"
    },
    {
     "data": {
      "image/png": "[encoded data removed]",
      "text/plain": [
       "<Figure size 432x288 with 1 Axes>"
      ]
     },
     "metadata": {
      "needs_background": "light"
     },
     "output_type": "display_data"
    }
   ],
   "source": [
    "# Plot training & validation accuracy values\n",
    "plt.plot(history.history['acc'])\n",
    "plt.plot(history.history['val_acc'])\n",
    "plt.title('Model accuracy')\n",
    "plt.ylabel('Accuracy')\n",
    "plt.xlabel('Epoch')\n",
    "plt.legend(['Train', 'Test'], loc='upper left')\n",
    "plt.show()\n",
    "\n",
    "# Plot training & validation loss values\n",
    "plt.plot(history.history['loss'])\n",
    "plt.plot(history.history['val_loss'])\n",
    "plt.title('Model loss')\n",
    "plt.ylabel('Loss')\n",
    "plt.xlabel('Epoch')\n",
    "plt.legend(['Train', 'Test'], loc='upper left')\n",
    "plt.show()\n"
   ]
  },
  {
   "cell_type": "code",
   "execution_count": 48,
   "metadata": {},
   "outputs": [
    {
     "ename": "ImportError",
     "evalue": "Failed to import `pydot`. Please install `pydot`. For example with `pip install pydot`.",
     "output_type": "error",
     "traceback": [
      "\u001b[0;31m---------------------------------------------------------------------------\u001b[0m",
      "\u001b[0;31mImportError\u001b[0m                               Traceback (most recent call last)",
      "\u001b[0;32m<ipython-input-48-a70009143d02>\u001b[0m in \u001b[0;36m<module>\u001b[0;34m\u001b[0m\n\u001b[1;32m      1\u001b[0m \u001b[0;32mfrom\u001b[0m \u001b[0mkeras\u001b[0m\u001b[0;34m.\u001b[0m\u001b[0mutils\u001b[0m \u001b[0;32mimport\u001b[0m \u001b[0mplot_model\u001b[0m\u001b[0;34m\u001b[0m\u001b[0;34m\u001b[0m\u001b[0m\n\u001b[0;32m----> 2\u001b[0;31m \u001b[0mplot_model\u001b[0m\u001b[0;34m(\u001b[0m\u001b[0mmodel\u001b[0m\u001b[0;34m,\u001b[0m \u001b[0mto_file\u001b[0m\u001b[0;34m=\u001b[0m\u001b[0;34m'model.png'\u001b[0m\u001b[0;34m)\u001b[0m\u001b[0;34m\u001b[0m\u001b[0;34m\u001b[0m\u001b[0m\n\u001b[0m",
      "\u001b[0;32m/usr/anaconda3/lib/python3.6/site-packages/keras/utils/vis_utils.py\u001b[0m in \u001b[0;36mplot_model\u001b[0;34m(model, to_file, show_shapes, show_layer_names, rankdir)\u001b[0m\n\u001b[1;32m    130\u001b[0m             \u001b[0;34m'LR'\u001b[0m \u001b[0mcreates\u001b[0m \u001b[0ma\u001b[0m \u001b[0mhorizontal\u001b[0m \u001b[0mplot\u001b[0m\u001b[0;34m.\u001b[0m\u001b[0;34m\u001b[0m\u001b[0;34m\u001b[0m\u001b[0m\n\u001b[1;32m    131\u001b[0m     \"\"\"\n\u001b[0;32m--> 132\u001b[0;31m     \u001b[0mdot\u001b[0m \u001b[0;34m=\u001b[0m \u001b[0mmodel_to_dot\u001b[0m\u001b[0;34m(\u001b[0m\u001b[0mmodel\u001b[0m\u001b[0;34m,\u001b[0m \u001b[0mshow_shapes\u001b[0m\u001b[0;34m,\u001b[0m \u001b[0mshow_layer_names\u001b[0m\u001b[0;34m,\u001b[0m \u001b[0mrankdir\u001b[0m\u001b[0;34m)\u001b[0m\u001b[0;34m\u001b[0m\u001b[0;34m\u001b[0m\u001b[0m\n\u001b[0m\u001b[1;32m    133\u001b[0m     \u001b[0m_\u001b[0m\u001b[0;34m,\u001b[0m \u001b[0mextension\u001b[0m \u001b[0;34m=\u001b[0m \u001b[0mos\u001b[0m\u001b[0;34m.\u001b[0m\u001b[0mpath\u001b[0m\u001b[0;34m.\u001b[0m\u001b[0msplitext\u001b[0m\u001b[0;34m(\u001b[0m\u001b[0mto_file\u001b[0m\u001b[0;34m)\u001b[0m\u001b[0;34m\u001b[0m\u001b[0;34m\u001b[0m\u001b[0m\n\u001b[1;32m    134\u001b[0m     \u001b[0;32mif\u001b[0m \u001b[0;32mnot\u001b[0m \u001b[0mextension\u001b[0m\u001b[0;34m:\u001b[0m\u001b[0;34m\u001b[0m\u001b[0;34m\u001b[0m\u001b[0m\n",
      "\u001b[0;32m/usr/anaconda3/lib/python3.6/site-packages/keras/utils/vis_utils.py\u001b[0m in \u001b[0;36mmodel_to_dot\u001b[0;34m(model, show_shapes, show_layer_names, rankdir)\u001b[0m\n\u001b[1;32m     53\u001b[0m     \u001b[0;32mfrom\u001b[0m \u001b[0;34m.\u001b[0m\u001b[0;34m.\u001b[0m\u001b[0mmodels\u001b[0m \u001b[0;32mimport\u001b[0m \u001b[0mSequential\u001b[0m\u001b[0;34m\u001b[0m\u001b[0;34m\u001b[0m\u001b[0m\n\u001b[1;32m     54\u001b[0m \u001b[0;34m\u001b[0m\u001b[0m\n\u001b[0;32m---> 55\u001b[0;31m     \u001b[0m_check_pydot\u001b[0m\u001b[0;34m(\u001b[0m\u001b[0;34m)\u001b[0m\u001b[0;34m\u001b[0m\u001b[0;34m\u001b[0m\u001b[0m\n\u001b[0m\u001b[1;32m     56\u001b[0m     \u001b[0mdot\u001b[0m \u001b[0;34m=\u001b[0m \u001b[0mpydot\u001b[0m\u001b[0;34m.\u001b[0m\u001b[0mDot\u001b[0m\u001b[0;34m(\u001b[0m\u001b[0;34m)\u001b[0m\u001b[0;34m\u001b[0m\u001b[0;34m\u001b[0m\u001b[0m\n\u001b[1;32m     57\u001b[0m     \u001b[0mdot\u001b[0m\u001b[0;34m.\u001b[0m\u001b[0mset\u001b[0m\u001b[0;34m(\u001b[0m\u001b[0;34m'rankdir'\u001b[0m\u001b[0;34m,\u001b[0m \u001b[0mrankdir\u001b[0m\u001b[0;34m)\u001b[0m\u001b[0;34m\u001b[0m\u001b[0;34m\u001b[0m\u001b[0m\n",
      "\u001b[0;32m/usr/anaconda3/lib/python3.6/site-packages/keras/utils/vis_utils.py\u001b[0m in \u001b[0;36m_check_pydot\u001b[0;34m()\u001b[0m\n\u001b[1;32m     18\u001b[0m     \u001b[0;32mif\u001b[0m \u001b[0mpydot\u001b[0m \u001b[0;32mis\u001b[0m \u001b[0;32mNone\u001b[0m\u001b[0;34m:\u001b[0m\u001b[0;34m\u001b[0m\u001b[0;34m\u001b[0m\u001b[0m\n\u001b[1;32m     19\u001b[0m         raise ImportError(\n\u001b[0;32m---> 20\u001b[0;31m             \u001b[0;34m'Failed to import `pydot`. '\u001b[0m\u001b[0;34m\u001b[0m\u001b[0;34m\u001b[0m\u001b[0m\n\u001b[0m\u001b[1;32m     21\u001b[0m             \u001b[0;34m'Please install `pydot`. '\u001b[0m\u001b[0;34m\u001b[0m\u001b[0;34m\u001b[0m\u001b[0m\n\u001b[1;32m     22\u001b[0m             'For example with `pip install pydot`.')\n",
      "\u001b[0;31mImportError\u001b[0m: Failed to import `pydot`. Please install `pydot`. For example with `pip install pydot`."
     ]
    }
   ],
   "source": [
    "from keras.utils import plot_model\n",
    "plot_model(model, to_file='model.png')"
   ]
  },
  {
   "cell_type": "code",
   "execution_count": null,
   "metadata": {},
   "outputs": [],
   "source": [
    "from keras.models import Sequential\n",
    "from keras.layers.core import Dense, Activation\n",
    "from keras.optimizers import SGD\n",
    "from keras.utils import np_utils \\\n",
    "from IPython.display import SVG\n",
    "from keras.utils.vis_utils import model_to_dot "
   ]
  }
 ],
 "metadata": {
  "colab": {
   "name": "Untitled2.ipynb",
   "provenance": [],
   "version": "0.3.2"
  },
  "kernelspec": {
   "display_name": "Python 3",
   "language": "python",
   "name": "python3"
  },
  "language_info": {
   "codemirror_mode": {
    "name": "ipython",
    "version": 3
   },
   "file_extension": ".py",
   "mimetype": "text/x-python",
   "name": "python",
   "nbconvert_exporter": "python",
   "pygments_lexer": "ipython3",
   "version": "3.6.8"
  }
 },
 "nbformat": 4,
 "nbformat_minor": 1
}
