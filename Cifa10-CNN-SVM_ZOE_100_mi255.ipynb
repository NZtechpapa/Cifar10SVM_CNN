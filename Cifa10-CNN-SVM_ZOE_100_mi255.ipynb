{
 "cells": [
  {
   "cell_type": "code",
   "execution_count": 1,
   "metadata": {
    "colab": {},
    "colab_type": "code",
    "id": "RgCmaNtELWcf"
   },
   "outputs": [
    {
     "name": "stderr",
     "output_type": "stream",
     "text": [
      "Using TensorFlow backend.\n"
     ]
    }
   ],
   "source": [
    "import keras\n",
    "from keras.models import Sequential\n",
    "from keras.utils import np_utils\n",
    "from keras.preprocessing.image import ImageDataGenerator\n",
    "from keras.layers import Dense, Activation, Flatten, Dropout, BatchNormalization\n",
    "from keras.layers import Conv2D, MaxPooling2D\n",
    "from keras.datasets import cifar10\n",
    "from keras import regularizers\n",
    "from keras.callbacks import LearningRateScheduler\n",
    "import numpy as np\n",
    "import pickle"
   ]
  },
  {
   "cell_type": "code",
   "execution_count": 2,
   "metadata": {
    "colab": {},
    "colab_type": "code",
    "id": "oS3YtyW6LylX"
   },
   "outputs": [],
   "source": [
    "def lr_schedule(epoch):\n",
    "    lrate = 0.001\n",
    "    if epoch > 75:\n",
    "        lrate = 0.0005\n",
    "    elif epoch > 100:\n",
    "        lrate = 0.0003        \n",
    "    return lrate"
   ]
  },
  {
   "cell_type": "code",
   "execution_count": 3,
   "metadata": {
    "colab": {},
    "colab_type": "code",
    "id": "0YR14RboL092"
   },
   "outputs": [],
   "source": [
    "(x_train, y_train), (x_test, y_test) = cifar10.load_data()\n",
    "x_train = x_train.astype('float32')\n",
    "x_test = x_test.astype('float32')\n",
    "\n",
    "x_train /= 255\n",
    "x_test /= 255"
   ]
  },
  {
   "cell_type": "code",
   "execution_count": 4,
   "metadata": {
    "colab": {},
    "colab_type": "code",
    "id": "owhH_qeQL2iK"
   },
   "outputs": [],
   "source": [
    "#z-score\n",
    "mean = np.mean(x_train,axis=(0,1,2,3))\n",
    "std = np.std(x_train,axis=(0,1,2,3))\n",
    "x_train = (x_train-mean)/(std+1e-7)\n",
    "x_test = (x_test-mean)/(std+1e-7)\n"
   ]
  },
  {
   "cell_type": "code",
   "execution_count": 5,
   "metadata": {
    "colab": {},
    "colab_type": "code",
    "id": "_bcoHpJHL4O-"
   },
   "outputs": [],
   "source": [
    "num_classes = 10\n",
    "y_train = np_utils.to_categorical(y_train,num_classes)\n",
    "y_test = np_utils.to_categorical(y_test,num_classes)"
   ]
  },
  {
   "cell_type": "code",
   "execution_count": 6,
   "metadata": {
    "colab": {},
    "colab_type": "code",
    "id": "5trHgDGhL7Hc"
   },
   "outputs": [
    {
     "name": "stdout",
     "output_type": "stream",
     "text": [
      "_________________________________________________________________\n",
      "Layer (type)                 Output Shape              Param #   \n",
      "=================================================================\n",
      "conv2d_1 (Conv2D)            (None, 32, 32, 32)        896       \n",
      "_________________________________________________________________\n",
      "activation_1 (Activation)    (None, 32, 32, 32)        0         \n",
      "_________________________________________________________________\n",
      "batch_normalization_1 (Batch (None, 32, 32, 32)        128       \n",
      "_________________________________________________________________\n",
      "conv2d_2 (Conv2D)            (None, 32, 32, 32)        9248      \n",
      "_________________________________________________________________\n",
      "activation_2 (Activation)    (None, 32, 32, 32)        0         \n",
      "_________________________________________________________________\n",
      "batch_normalization_2 (Batch (None, 32, 32, 32)        128       \n",
      "_________________________________________________________________\n",
      "max_pooling2d_1 (MaxPooling2 (None, 16, 16, 32)        0         \n",
      "_________________________________________________________________\n",
      "dropout_1 (Dropout)          (None, 16, 16, 32)        0         \n",
      "_________________________________________________________________\n",
      "conv2d_3 (Conv2D)            (None, 16, 16, 64)        18496     \n",
      "_________________________________________________________________\n",
      "activation_3 (Activation)    (None, 16, 16, 64)        0         \n",
      "_________________________________________________________________\n",
      "batch_normalization_3 (Batch (None, 16, 16, 64)        256       \n",
      "_________________________________________________________________\n",
      "conv2d_4 (Conv2D)            (None, 16, 16, 64)        36928     \n",
      "_________________________________________________________________\n",
      "activation_4 (Activation)    (None, 16, 16, 64)        0         \n",
      "_________________________________________________________________\n",
      "batch_normalization_4 (Batch (None, 16, 16, 64)        256       \n",
      "_________________________________________________________________\n",
      "max_pooling2d_2 (MaxPooling2 (None, 8, 8, 64)          0         \n",
      "_________________________________________________________________\n",
      "dropout_2 (Dropout)          (None, 8, 8, 64)          0         \n",
      "_________________________________________________________________\n",
      "conv2d_5 (Conv2D)            (None, 8, 8, 128)         73856     \n",
      "_________________________________________________________________\n",
      "activation_5 (Activation)    (None, 8, 8, 128)         0         \n",
      "_________________________________________________________________\n",
      "batch_normalization_5 (Batch (None, 8, 8, 128)         512       \n",
      "_________________________________________________________________\n",
      "conv2d_6 (Conv2D)            (None, 8, 8, 128)         147584    \n",
      "_________________________________________________________________\n",
      "activation_6 (Activation)    (None, 8, 8, 128)         0         \n",
      "_________________________________________________________________\n",
      "batch_normalization_6 (Batch (None, 8, 8, 128)         512       \n",
      "_________________________________________________________________\n",
      "max_pooling2d_3 (MaxPooling2 (None, 4, 4, 128)         0         \n",
      "_________________________________________________________________\n",
      "dropout_3 (Dropout)          (None, 4, 4, 128)         0         \n",
      "_________________________________________________________________\n",
      "flatten_1 (Flatten)          (None, 2048)              0         \n",
      "_________________________________________________________________\n",
      "dense_1 (Dense)              (None, 10)                20490     \n",
      "=================================================================\n",
      "Total params: 309,290\n",
      "Trainable params: 308,394\n",
      "Non-trainable params: 896\n",
      "_________________________________________________________________\n"
     ]
    }
   ],
   "source": [
    "\n",
    "weight_decay = 1e-4\n",
    "model = Sequential()\n",
    "model.add(Conv2D(32, (3,3), padding='same', kernel_regularizer=regularizers.l2(weight_decay), input_shape=x_train.shape[1:]))\n",
    "model.add(Activation('elu'))\n",
    "model.add(BatchNormalization())\n",
    "model.add(Conv2D(32, (3,3), padding='same', kernel_regularizer=regularizers.l2(weight_decay)))\n",
    "model.add(Activation('elu'))\n",
    "model.add(BatchNormalization())\n",
    "model.add(MaxPooling2D(pool_size=(2,2)))\n",
    "model.add(Dropout(0.2))\n",
    "\n",
    "model.add(Conv2D(64, (3,3), padding='same', kernel_regularizer=regularizers.l2(weight_decay)))\n",
    "model.add(Activation('elu'))\n",
    "model.add(BatchNormalization())\n",
    "model.add(Conv2D(64, (3,3), padding='same', kernel_regularizer=regularizers.l2(weight_decay)))\n",
    "model.add(Activation('elu'))\n",
    "model.add(BatchNormalization())\n",
    "model.add(MaxPooling2D(pool_size=(2,2)))\n",
    "model.add(Dropout(0.3))\n",
    "\n",
    "model.add(Conv2D(128, (3,3), padding='same', kernel_regularizer=regularizers.l2(weight_decay)))\n",
    "model.add(Activation('elu'))\n",
    "model.add(BatchNormalization())\n",
    "model.add(Conv2D(128, (3,3), padding='same', kernel_regularizer=regularizers.l2(weight_decay)))\n",
    "model.add(Activation('elu'))\n",
    "model.add(BatchNormalization())\n",
    "model.add(MaxPooling2D(pool_size=(2,2)))\n",
    "model.add(Dropout(0.4))\n",
    "\n",
    "model.add(Flatten())\n",
    "model.add(Dense(num_classes, activation='softmax'))\n",
    "\n",
    "model.summary()"
   ]
  },
  {
   "cell_type": "code",
   "execution_count": 7,
   "metadata": {
    "colab": {},
    "colab_type": "code",
    "id": "yRtQFAI4L9j7"
   },
   "outputs": [],
   "source": [
    "#data augmentation\n",
    "datagen = ImageDataGenerator(\n",
    "    rotation_range=15,\n",
    "    width_shift_range=0.1,\n",
    "    height_shift_range=0.1,\n",
    "    horizontal_flip=True,\n",
    "    )\n",
    "datagen.fit(x_train)"
   ]
  },
  {
   "cell_type": "code",
   "execution_count": 8,
   "metadata": {},
   "outputs": [],
   "source": [
    "#training\n"
   ]
  },
  {
   "cell_type": "code",
   "execution_count": 9,
   "metadata": {
    "scrolled": true
   },
   "outputs": [
    {
     "name": "stdout",
     "output_type": "stream",
     "text": [
      "Epoch 1/75\n",
      "781/781 [==============================] - 177s 227ms/step - loss: 1.8944 - acc: 0.4237 - val_loss: 1.3816 - val_acc: 0.5790\n",
      "Epoch 2/75\n",
      "781/781 [==============================] - 177s 227ms/step - loss: 1.2553 - acc: 0.5897 - val_loss: 1.0157 - val_acc: 0.6828\n",
      "Epoch 3/75\n",
      "781/781 [==============================] - 178s 228ms/step - loss: 1.0753 - acc: 0.6542 - val_loss: 1.1664 - val_acc: 0.6625\n",
      "Epoch 4/75\n",
      "781/781 [==============================] - 178s 228ms/step - loss: 0.9724 - acc: 0.6904 - val_loss: 1.0426 - val_acc: 0.6982\n",
      "Epoch 5/75\n",
      "781/781 [==============================] - 178s 228ms/step - loss: 0.9022 - acc: 0.7168 - val_loss: 0.8159 - val_acc: 0.7507\n",
      "Epoch 6/75\n",
      "781/781 [==============================] - 177s 227ms/step - loss: 0.8533 - acc: 0.7369 - val_loss: 0.7689 - val_acc: 0.7708\n",
      "Epoch 7/75\n",
      "781/781 [==============================] - 177s 227ms/step - loss: 0.8179 - acc: 0.7521 - val_loss: 0.7977 - val_acc: 0.7695\n",
      "Epoch 8/75\n",
      "781/781 [==============================] - 178s 228ms/step - loss: 0.7904 - acc: 0.7622 - val_loss: 0.7396 - val_acc: 0.7892\n",
      "Epoch 9/75\n",
      "781/781 [==============================] - 178s 228ms/step - loss: 0.7699 - acc: 0.7708 - val_loss: 0.7866 - val_acc: 0.7790\n",
      "Epoch 10/75\n",
      "781/781 [==============================] - 178s 229ms/step - loss: 0.7534 - acc: 0.7782 - val_loss: 0.7731 - val_acc: 0.7858\n",
      "Epoch 11/75\n",
      "781/781 [==============================] - 178s 228ms/step - loss: 0.7429 - acc: 0.7840 - val_loss: 0.7162 - val_acc: 0.8011\n",
      "Epoch 12/75\n",
      "781/781 [==============================] - 178s 228ms/step - loss: 0.7284 - acc: 0.7903 - val_loss: 0.7224 - val_acc: 0.8048\n",
      "Epoch 13/75\n",
      "781/781 [==============================] - 178s 227ms/step - loss: 0.7143 - acc: 0.7953 - val_loss: 0.7195 - val_acc: 0.8026\n",
      "Epoch 14/75\n",
      "781/781 [==============================] - 178s 227ms/step - loss: 0.7130 - acc: 0.7991 - val_loss: 0.6410 - val_acc: 0.8286\n",
      "Epoch 15/75\n",
      "781/781 [==============================] - 178s 227ms/step - loss: 0.7002 - acc: 0.8025 - val_loss: 0.7981 - val_acc: 0.7815\n",
      "Epoch 16/75\n",
      "781/781 [==============================] - 178s 228ms/step - loss: 0.6946 - acc: 0.8041 - val_loss: 0.7359 - val_acc: 0.8018\n",
      "Epoch 17/75\n",
      "781/781 [==============================] - 178s 228ms/step - loss: 0.6847 - acc: 0.8095 - val_loss: 0.6358 - val_acc: 0.8296\n",
      "Epoch 18/75\n",
      "781/781 [==============================] - 178s 228ms/step - loss: 0.6839 - acc: 0.8108 - val_loss: 0.6831 - val_acc: 0.8203\n",
      "Epoch 19/75\n",
      "781/781 [==============================] - 178s 228ms/step - loss: 0.6748 - acc: 0.8162 - val_loss: 0.6922 - val_acc: 0.8158\n",
      "Epoch 20/75\n",
      "781/781 [==============================] - 179s 229ms/step - loss: 0.6710 - acc: 0.8162 - val_loss: 0.7044 - val_acc: 0.8176\n",
      "Epoch 21/75\n",
      "781/781 [==============================] - 178s 228ms/step - loss: 0.6600 - acc: 0.8188 - val_loss: 0.7273 - val_acc: 0.8028\n",
      "Epoch 22/75\n",
      "781/781 [==============================] - 178s 228ms/step - loss: 0.6631 - acc: 0.8200 - val_loss: 0.6616 - val_acc: 0.8279\n",
      "Epoch 23/75\n",
      "781/781 [==============================] - 178s 227ms/step - loss: 0.6550 - acc: 0.8218 - val_loss: 0.6583 - val_acc: 0.8252\n",
      "Epoch 24/75\n",
      "781/781 [==============================] - 177s 227ms/step - loss: 0.6509 - acc: 0.8238 - val_loss: 0.5875 - val_acc: 0.8513\n",
      "Epoch 25/75\n",
      "781/781 [==============================] - 177s 226ms/step - loss: 0.6438 - acc: 0.8262 - val_loss: 0.5966 - val_acc: 0.8462\n",
      "Epoch 26/75\n",
      "781/781 [==============================] - 176s 226ms/step - loss: 0.6448 - acc: 0.8280 - val_loss: 0.6461 - val_acc: 0.8332\n",
      "Epoch 27/75\n",
      "781/781 [==============================] - 176s 226ms/step - loss: 0.6375 - acc: 0.8295 - val_loss: 0.6447 - val_acc: 0.8312\n",
      "Epoch 28/75\n",
      "781/781 [==============================] - 176s 226ms/step - loss: 0.6392 - acc: 0.8297 - val_loss: 0.6236 - val_acc: 0.8408\n",
      "Epoch 29/75\n",
      "781/781 [==============================] - 177s 226ms/step - loss: 0.6348 - acc: 0.8301 - val_loss: 0.6009 - val_acc: 0.8492\n",
      "Epoch 30/75\n",
      "781/781 [==============================] - 179s 229ms/step - loss: 0.6316 - acc: 0.8318 - val_loss: 0.6314 - val_acc: 0.8396\n",
      "Epoch 31/75\n",
      "781/781 [==============================] - 179s 229ms/step - loss: 0.6317 - acc: 0.8330 - val_loss: 0.5767 - val_acc: 0.8562\n",
      "Epoch 32/75\n",
      "781/781 [==============================] - 178s 227ms/step - loss: 0.6290 - acc: 0.8340 - val_loss: 0.6312 - val_acc: 0.8425\n",
      "Epoch 33/75\n",
      "781/781 [==============================] - 177s 227ms/step - loss: 0.6277 - acc: 0.8352 - val_loss: 0.6771 - val_acc: 0.8327\n",
      "Epoch 34/75\n",
      "781/781 [==============================] - 176s 226ms/step - loss: 0.6227 - acc: 0.8369 - val_loss: 0.5788 - val_acc: 0.8533\n",
      "Epoch 35/75\n",
      "781/781 [==============================] - 176s 226ms/step - loss: 0.6308 - acc: 0.8325 - val_loss: 0.6189 - val_acc: 0.8454\n",
      "Epoch 36/75\n",
      "781/781 [==============================] - 177s 226ms/step - loss: 0.6270 - acc: 0.8354 - val_loss: 0.6283 - val_acc: 0.8373\n",
      "Epoch 37/75\n",
      "781/781 [==============================] - 178s 227ms/step - loss: 0.6195 - acc: 0.8363 - val_loss: 0.6265 - val_acc: 0.8406\n",
      "Epoch 38/75\n",
      "781/781 [==============================] - 179s 229ms/step - loss: 0.6176 - acc: 0.8374 - val_loss: 0.6030 - val_acc: 0.8508\n",
      "Epoch 39/75\n",
      "781/781 [==============================] - 178s 228ms/step - loss: 0.6119 - acc: 0.8413 - val_loss: 0.6315 - val_acc: 0.8416\n",
      "Epoch 40/75\n",
      "781/781 [==============================] - 178s 228ms/step - loss: 0.6169 - acc: 0.8396 - val_loss: 0.6076 - val_acc: 0.8488\n",
      "Epoch 41/75\n",
      "781/781 [==============================] - 177s 227ms/step - loss: 0.6148 - acc: 0.8383 - val_loss: 0.6045 - val_acc: 0.8523\n",
      "Epoch 42/75\n",
      "781/781 [==============================] - 177s 226ms/step - loss: 0.6101 - acc: 0.8408 - val_loss: 0.6790 - val_acc: 0.8248\n",
      "Epoch 43/75\n",
      "781/781 [==============================] - 176s 226ms/step - loss: 0.6075 - acc: 0.8428 - val_loss: 0.5792 - val_acc: 0.8591\n",
      "Epoch 44/75\n",
      "781/781 [==============================] - 177s 226ms/step - loss: 0.6111 - acc: 0.8396 - val_loss: 0.5887 - val_acc: 0.8530\n",
      "Epoch 45/75\n",
      "781/781 [==============================] - 176s 226ms/step - loss: 0.6045 - acc: 0.8447 - val_loss: 0.5932 - val_acc: 0.8540\n",
      "Epoch 46/75\n",
      "781/781 [==============================] - 176s 226ms/step - loss: 0.6056 - acc: 0.8436 - val_loss: 0.6337 - val_acc: 0.8396\n",
      "Epoch 47/75\n",
      "781/781 [==============================] - 177s 227ms/step - loss: 0.6060 - acc: 0.8430 - val_loss: 0.6460 - val_acc: 0.8346\n",
      "Epoch 48/75\n",
      "781/781 [==============================] - 179s 229ms/step - loss: 0.6040 - acc: 0.8454 - val_loss: 0.6691 - val_acc: 0.8323\n",
      "Epoch 49/75\n",
      "781/781 [==============================] - 179s 229ms/step - loss: 0.6069 - acc: 0.8450 - val_loss: 0.7078 - val_acc: 0.8154\n",
      "Epoch 50/75\n",
      "781/781 [==============================] - 178s 228ms/step - loss: 0.6000 - acc: 0.8458 - val_loss: 0.6501 - val_acc: 0.8403\n",
      "Epoch 51/75\n",
      "781/781 [==============================] - 178s 228ms/step - loss: 0.5976 - acc: 0.8451 - val_loss: 0.6104 - val_acc: 0.8487\n",
      "Epoch 52/75\n",
      "781/781 [==============================] - 178s 228ms/step - loss: 0.5937 - acc: 0.8470 - val_loss: 0.6188 - val_acc: 0.8484\n",
      "Epoch 53/75\n",
      "781/781 [==============================] - 177s 227ms/step - loss: 0.5972 - acc: 0.8462 - val_loss: 0.6289 - val_acc: 0.8433\n",
      "Epoch 54/75\n",
      "781/781 [==============================] - 177s 226ms/step - loss: 0.5905 - acc: 0.8493 - val_loss: 0.6352 - val_acc: 0.8394\n",
      "Epoch 55/75\n",
      "781/781 [==============================] - 177s 226ms/step - loss: 0.5988 - acc: 0.8444 - val_loss: 0.5889 - val_acc: 0.8554\n",
      "Epoch 56/75\n",
      "781/781 [==============================] - 176s 226ms/step - loss: 0.5938 - acc: 0.8466 - val_loss: 0.6065 - val_acc: 0.8488\n",
      "Epoch 57/75\n",
      "781/781 [==============================] - 176s 226ms/step - loss: 0.5953 - acc: 0.8487 - val_loss: 0.6152 - val_acc: 0.8498\n",
      "Epoch 58/75\n",
      "781/781 [==============================] - 177s 226ms/step - loss: 0.5909 - acc: 0.8501 - val_loss: 0.6063 - val_acc: 0.8499\n",
      "Epoch 59/75\n",
      "781/781 [==============================] - 177s 226ms/step - loss: 0.5893 - acc: 0.8484 - val_loss: 0.6006 - val_acc: 0.8550\n",
      "Epoch 60/75\n",
      "781/781 [==============================] - 180s 231ms/step - loss: 0.5959 - acc: 0.8485 - val_loss: 0.5415 - val_acc: 0.8701\n"
     ]
    },
    {
     "name": "stdout",
     "output_type": "stream",
     "text": [
      "Epoch 61/75\n",
      "781/781 [==============================] - 183s 235ms/step - loss: 0.5922 - acc: 0.8472 - val_loss: 0.5867 - val_acc: 0.8565\n",
      "Epoch 62/75\n",
      "781/781 [==============================] - 179s 230ms/step - loss: 0.5864 - acc: 0.8513 - val_loss: 0.5769 - val_acc: 0.8608\n",
      "Epoch 63/75\n",
      "781/781 [==============================] - 179s 229ms/step - loss: 0.5910 - acc: 0.8489 - val_loss: 0.6356 - val_acc: 0.8482\n",
      "Epoch 64/75\n",
      "781/781 [==============================] - 179s 230ms/step - loss: 0.5870 - acc: 0.8510 - val_loss: 0.5634 - val_acc: 0.8622\n",
      "Epoch 65/75\n",
      "781/781 [==============================] - 179s 229ms/step - loss: 0.5931 - acc: 0.8472 - val_loss: 0.6353 - val_acc: 0.8427\n",
      "Epoch 66/75\n",
      "781/781 [==============================] - 179s 229ms/step - loss: 0.5828 - acc: 0.8519 - val_loss: 0.5841 - val_acc: 0.8600\n",
      "Epoch 67/75\n",
      "781/781 [==============================] - 179s 229ms/step - loss: 0.5859 - acc: 0.8521 - val_loss: 0.5457 - val_acc: 0.8666\n",
      "Epoch 68/75\n",
      "781/781 [==============================] - 179s 229ms/step - loss: 0.5821 - acc: 0.8537 - val_loss: 0.5463 - val_acc: 0.8687\n",
      "Epoch 69/75\n",
      "781/781 [==============================] - 179s 229ms/step - loss: 0.5851 - acc: 0.8526 - val_loss: 0.6161 - val_acc: 0.8467\n",
      "Epoch 70/75\n",
      "781/781 [==============================] - 178s 228ms/step - loss: 0.5877 - acc: 0.8513 - val_loss: 0.5733 - val_acc: 0.8568\n",
      "Epoch 71/75\n",
      "781/781 [==============================] - 179s 229ms/step - loss: 0.5795 - acc: 0.8541 - val_loss: 0.5836 - val_acc: 0.8603\n",
      "Epoch 72/75\n",
      "781/781 [==============================] - 178s 228ms/step - loss: 0.5828 - acc: 0.8520 - val_loss: 0.5599 - val_acc: 0.8692\n",
      "Epoch 73/75\n",
      "781/781 [==============================] - 178s 228ms/step - loss: 0.5766 - acc: 0.8533 - val_loss: 0.6142 - val_acc: 0.8508\n",
      "Epoch 74/75\n",
      "781/781 [==============================] - 178s 228ms/step - loss: 0.5742 - acc: 0.8534 - val_loss: 0.5643 - val_acc: 0.8659\n",
      "Epoch 75/75\n",
      "781/781 [==============================] - 178s 228ms/step - loss: 0.5821 - acc: 0.8535 - val_loss: 0.5631 - val_acc: 0.8659\n",
      "Epoch 1/25\n",
      "781/781 [==============================] - 178s 228ms/step - loss: 0.5356 - acc: 0.8668 - val_loss: 0.5722 - val_acc: 0.8637\n",
      "Epoch 2/25\n",
      "781/781 [==============================] - 178s 227ms/step - loss: 0.5174 - acc: 0.8731 - val_loss: 0.5784 - val_acc: 0.8614\n",
      "Epoch 3/25\n",
      "781/781 [==============================] - 177s 227ms/step - loss: 0.5129 - acc: 0.8735 - val_loss: 0.5184 - val_acc: 0.8770\n",
      "Epoch 4/25\n",
      "781/781 [==============================] - 179s 229ms/step - loss: 0.5084 - acc: 0.8734 - val_loss: 0.5191 - val_acc: 0.8793\n",
      "Epoch 5/25\n",
      "781/781 [==============================] - 179s 230ms/step - loss: 0.5012 - acc: 0.8760 - val_loss: 0.4958 - val_acc: 0.8852\n",
      "Epoch 6/25\n",
      "781/781 [==============================] - 179s 229ms/step - loss: 0.5008 - acc: 0.8758 - val_loss: 0.5175 - val_acc: 0.8725\n",
      "Epoch 7/25\n",
      "781/781 [==============================] - 179s 229ms/step - loss: 0.4891 - acc: 0.8776 - val_loss: 0.5425 - val_acc: 0.8688\n",
      "Epoch 8/25\n",
      "781/781 [==============================] - 179s 229ms/step - loss: 0.4924 - acc: 0.8756 - val_loss: 0.5393 - val_acc: 0.8683\n",
      "Epoch 9/25\n",
      "781/781 [==============================] - 179s 229ms/step - loss: 0.4851 - acc: 0.8780 - val_loss: 0.5483 - val_acc: 0.8689\n",
      "Epoch 10/25\n",
      "781/781 [==============================] - 179s 229ms/step - loss: 0.4891 - acc: 0.8766 - val_loss: 0.5172 - val_acc: 0.8748\n",
      "Epoch 11/25\n",
      "781/781 [==============================] - 179s 229ms/step - loss: 0.4816 - acc: 0.8785 - val_loss: 0.5261 - val_acc: 0.8723\n",
      "Epoch 12/25\n",
      "781/781 [==============================] - 178s 228ms/step - loss: 0.4806 - acc: 0.8784 - val_loss: 0.5217 - val_acc: 0.8691\n",
      "Epoch 13/25\n",
      "781/781 [==============================] - 178s 228ms/step - loss: 0.4835 - acc: 0.8766 - val_loss: 0.5060 - val_acc: 0.8771\n",
      "Epoch 14/25\n",
      "781/781 [==============================] - 178s 228ms/step - loss: 0.4798 - acc: 0.8769 - val_loss: 0.5202 - val_acc: 0.8715\n",
      "Epoch 15/25\n",
      "781/781 [==============================] - 179s 230ms/step - loss: 0.4772 - acc: 0.8796 - val_loss: 0.4960 - val_acc: 0.8791\n",
      "Epoch 16/25\n",
      "781/781 [==============================] - 179s 229ms/step - loss: 0.4744 - acc: 0.8797 - val_loss: 0.5049 - val_acc: 0.8791\n",
      "Epoch 17/25\n",
      "781/781 [==============================] - 179s 229ms/step - loss: 0.4750 - acc: 0.8791 - val_loss: 0.5248 - val_acc: 0.8684\n",
      "Epoch 18/25\n",
      "781/781 [==============================] - 179s 229ms/step - loss: 0.4754 - acc: 0.8775 - val_loss: 0.5006 - val_acc: 0.8730\n",
      "Epoch 19/25\n",
      "781/781 [==============================] - 179s 229ms/step - loss: 0.4719 - acc: 0.8780 - val_loss: 0.5020 - val_acc: 0.8754\n",
      "Epoch 20/25\n",
      "781/781 [==============================] - 178s 228ms/step - loss: 0.4689 - acc: 0.8792 - val_loss: 0.4915 - val_acc: 0.8781\n",
      "Epoch 21/25\n",
      "781/781 [==============================] - 178s 228ms/step - loss: 0.4674 - acc: 0.8801 - val_loss: 0.4649 - val_acc: 0.8845\n",
      "Epoch 22/25\n",
      "781/781 [==============================] - 179s 229ms/step - loss: 0.4673 - acc: 0.8805 - val_loss: 0.5001 - val_acc: 0.8766\n",
      "Epoch 23/25\n",
      "781/781 [==============================] - 179s 229ms/step - loss: 0.4720 - acc: 0.8797 - val_loss: 0.4724 - val_acc: 0.8834\n",
      "Epoch 24/25\n",
      "781/781 [==============================] - 180s 230ms/step - loss: 0.4620 - acc: 0.8812 - val_loss: 0.4960 - val_acc: 0.8722\n",
      "Epoch 25/25\n",
      "781/781 [==============================] - 179s 229ms/step - loss: 0.4613 - acc: 0.8821 - val_loss: 0.5090 - val_acc: 0.8711\n",
      "Epoch 1/25\n",
      "781/781 [==============================] - 178s 228ms/step - loss: 0.4434 - acc: 0.8867 - val_loss: 0.4659 - val_acc: 0.8852\n",
      "Epoch 2/25\n",
      "781/781 [==============================] - 178s 227ms/step - loss: 0.4370 - acc: 0.8893 - val_loss: 0.5058 - val_acc: 0.8733\n",
      "Epoch 3/25\n",
      "781/781 [==============================] - 179s 229ms/step - loss: 0.4312 - acc: 0.8921 - val_loss: 0.4767 - val_acc: 0.8824\n",
      "Epoch 4/25\n",
      "781/781 [==============================] - 179s 229ms/step - loss: 0.4264 - acc: 0.8913 - val_loss: 0.4852 - val_acc: 0.8787\n",
      "Epoch 5/25\n",
      "781/781 [==============================] - 179s 229ms/step - loss: 0.4269 - acc: 0.8912 - val_loss: 0.4808 - val_acc: 0.8793\n",
      "Epoch 6/25\n",
      "781/781 [==============================] - 178s 228ms/step - loss: 0.4207 - acc: 0.8925 - val_loss: 0.4635 - val_acc: 0.8838\n",
      "Epoch 7/25\n",
      "781/781 [==============================] - 180s 230ms/step - loss: 0.4208 - acc: 0.8930 - val_loss: 0.4787 - val_acc: 0.8788\n",
      "Epoch 8/25\n",
      "781/781 [==============================] - 179s 230ms/step - loss: 0.4197 - acc: 0.8917 - val_loss: 0.4650 - val_acc: 0.8836\n",
      "Epoch 9/25\n",
      "781/781 [==============================] - 179s 230ms/step - loss: 0.4177 - acc: 0.8927 - val_loss: 0.4628 - val_acc: 0.8855\n",
      "Epoch 10/25\n",
      "781/781 [==============================] - 179s 229ms/step - loss: 0.4172 - acc: 0.8933 - val_loss: 0.5196 - val_acc: 0.8640\n",
      "Epoch 11/25\n",
      "781/781 [==============================] - 179s 229ms/step - loss: 0.4146 - acc: 0.8933 - val_loss: 0.4416 - val_acc: 0.8877\n",
      "Epoch 12/25\n",
      "781/781 [==============================] - 179s 229ms/step - loss: 0.4133 - acc: 0.8931 - val_loss: 0.4604 - val_acc: 0.8856\n",
      "Epoch 13/25\n",
      "781/781 [==============================] - 178s 228ms/step - loss: 0.4093 - acc: 0.8942 - val_loss: 0.4767 - val_acc: 0.8807\n",
      "Epoch 14/25\n",
      "781/781 [==============================] - 178s 228ms/step - loss: 0.4130 - acc: 0.8927 - val_loss: 0.4611 - val_acc: 0.8828\n",
      "Epoch 15/25\n",
      "781/781 [==============================] - 180s 231ms/step - loss: 0.4093 - acc: 0.8951 - val_loss: 0.4704 - val_acc: 0.8841\n",
      "Epoch 16/25\n",
      "781/781 [==============================] - 180s 230ms/step - loss: 0.4083 - acc: 0.8952 - val_loss: 0.4741 - val_acc: 0.8811\n",
      "Epoch 17/25\n",
      "781/781 [==============================] - 180s 230ms/step - loss: 0.4076 - acc: 0.8942 - val_loss: 0.4921 - val_acc: 0.8764\n",
      "Epoch 18/25\n",
      "781/781 [==============================] - 180s 230ms/step - loss: 0.4069 - acc: 0.8947 - val_loss: 0.4803 - val_acc: 0.8743\n",
      "Epoch 19/25\n",
      "781/781 [==============================] - 181s 232ms/step - loss: 0.4026 - acc: 0.8946 - val_loss: 0.4684 - val_acc: 0.8802\n",
      "Epoch 20/25\n",
      "781/781 [==============================] - 179s 230ms/step - loss: 0.4087 - acc: 0.8946 - val_loss: 0.4518 - val_acc: 0.8844\n"
     ]
    },
    {
     "name": "stdout",
     "output_type": "stream",
     "text": [
      "Epoch 21/25\n",
      "781/781 [==============================] - 180s 230ms/step - loss: 0.4057 - acc: 0.8936 - val_loss: 0.4520 - val_acc: 0.8845\n",
      "Epoch 22/25\n",
      "781/781 [==============================] - 180s 230ms/step - loss: 0.3983 - acc: 0.8962 - val_loss: 0.4850 - val_acc: 0.8760\n",
      "Epoch 23/25\n",
      "781/781 [==============================] - 180s 230ms/step - loss: 0.4058 - acc: 0.8929 - val_loss: 0.4626 - val_acc: 0.8842\n",
      "Epoch 24/25\n",
      "781/781 [==============================] - 180s 230ms/step - loss: 0.4018 - acc: 0.8948 - val_loss: 0.4433 - val_acc: 0.8876\n",
      "Epoch 25/25\n",
      "781/781 [==============================] - 180s 231ms/step - loss: 0.3959 - acc: 0.8983 - val_loss: 0.4435 - val_acc: 0.8872\n"
     ]
    }
   ],
   "source": [
    "#training\n",
    "batch_size = 64\n",
    "epochs=25\n",
    "opt_rms = keras.optimizers.rmsprop(lr=0.001,decay=1e-6)\n",
    "model.compile(loss='categorical_crossentropy',\n",
    "        optimizer=opt_rms,\n",
    "        metrics=['accuracy'])\n",
    "hist1 = model.fit_generator(datagen.flow(x_train, y_train, batch_size=batch_size),steps_per_epoch=x_train.shape[0] // (batch_size),epochs=3*epochs,verbose=1,validation_data=(x_test,y_test))\n",
    "model.save_weights('cifar10_normal_rms_ep75.h5')\n",
    "\n",
    "opt_rms = keras.optimizers.rmsprop(lr=0.0005,decay=1e-6)\n",
    "model.compile(loss='categorical_crossentropy',\n",
    "        optimizer=opt_rms,\n",
    "        metrics=['accuracy'])\n",
    "hist2 = model.fit_generator(datagen.flow(x_train, y_train, batch_size=batch_size),steps_per_epoch=x_train.shape[0] // batch_size,epochs=epochs,verbose=1,validation_data=(x_test,y_test))\n",
    "model.save_weights('cifar10_normal_rms_ep100.h5')\n",
    "\n",
    "opt_rms = keras.optimizers.rmsprop(lr=0.0003,decay=1e-6)\n",
    "model.compile(loss='categorical_crossentropy',\n",
    "        optimizer=opt_rms,\n",
    "        metrics=['accuracy'])\n",
    "hist3 = model.fit_generator(datagen.flow(x_train, y_train, batch_size=batch_size),steps_per_epoch=x_train.shape[0] // batch_size,epochs=epochs,verbose=1,validation_data=(x_test,y_test))\n",
    "model.save_weights('cifar10_normal_rms_ep125.h5')\n",
    "\n",
    "\n"
   ]
  },
  {
   "cell_type": "code",
   "execution_count": 10,
   "metadata": {
    "colab": {},
    "colab_type": "code",
    "id": "bol61qMdMQ1G"
   },
   "outputs": [
    {
     "name": "stdout",
     "output_type": "stream",
     "text": [
      "10000/10000 [==============================] - 13s 1ms/step\n",
      "\n",
      "Test result: 88.720 loss: 0.444\n"
     ]
    }
   ],
   "source": [
    "#save to disk\n",
    "model_json = model.to_json()\n",
    "with open('model.json', 'w') as json_file:\n",
    "    json_file.write(model_json)\n",
    "\n",
    "model.save_weights('model.h5')    \n",
    "\n",
    "#testing\n",
    "scores = model.evaluate(x_test, y_test, batch_size=128, verbose=1)\n",
    "print('\\nTest result: %.3f loss: %.3f' % (scores[1]*100,scores[0]))"
   ]
  },
  {
   "cell_type": "code",
   "execution_count": 11,
   "metadata": {},
   "outputs": [
    {
     "data": {
      "text/plain": [
       "<keras.layers.convolutional.Conv2D at 0x7fded374d1d0>"
      ]
     },
     "execution_count": 11,
     "metadata": {},
     "output_type": "execute_result"
    }
   ],
   "source": [
    "top_layer = model.layers[0]\n",
    "top_layer"
   ]
  },
  {
   "cell_type": "code",
   "execution_count": 15,
   "metadata": {},
   "outputs": [
    {
     "data": {
      "text/plain": [
       "<matplotlib.image.AxesImage at 0x7fdebd59bdd8>"
      ]
     },
     "execution_count": 15,
     "metadata": {},
     "output_type": "execute_result"
    },
    {
     "data": {
      "image/png": "[encoded data removed]",
      "text/plain": [
       "<Figure size 432x288 with 1 Axes>"
      ]
     },
     "metadata": {
      "needs_background": "light"
     },
     "output_type": "display_data"
    }
   ],
   "source": [
    "import matplotlib.pyplot as plt\n",
    "plt.imshow(top_layer.get_weights()[0][2:, :, :, 30].squeeze(), cmap='gray')"
   ]
  },
  {
   "cell_type": "code",
   "execution_count": 16,
   "metadata": {},
   "outputs": [],
   "source": [
    "history = model.history"
   ]
  },
  {
   "cell_type": "code",
   "execution_count": 14,
   "metadata": {},
   "outputs": [
    {
     "data": {
      "image/png": "[encoded data removed]",
      "text/plain": [
       "<Figure size 432x288 with 1 Axes>"
      ]
     },
     "metadata": {
      "needs_background": "light"
     },
     "output_type": "display_data"
    },
    {
     "data": {
      "image/png": "[encoded data removed]",
      "text/plain": [
       "<Figure size 432x288 with 1 Axes>"
      ]
     },
     "metadata": {
      "needs_background": "light"
     },
     "output_type": "display_data"
    }
   ],
   "source": [
    "import matplotlib.pyplot as plt\n",
    "# 绘制训练 & 验证的准确率值\n",
    "plt.plot(history.history['acc'])\n",
    "plt.plot(history.history['val_acc'])\n",
    "plt.title('Model accuracy')\n",
    "plt.ylabel('Accuracy')\n",
    "plt.xlabel('Epoch')\n",
    "plt.legend(['Train', 'Test'], loc='upper left')\n",
    "plt.show()\n",
    "\n",
    "# 绘制训练 & 验证的损失值\n",
    "plt.plot(history.history['loss'])\n",
    "plt.plot(history.history['val_loss'])\n",
    "plt.title('Model loss')\n",
    "plt.ylabel('Loss')\n",
    "plt.xlabel('Epoch')\n",
    "plt.legend(['Train', 'Test'], loc='upper left')\n",
    "plt.show()\n"
   ]
  },
  {
   "cell_type": "code",
   "execution_count": null,
   "metadata": {},
   "outputs": [],
   "source": []
  },
  {
   "cell_type": "code",
   "execution_count": null,
   "metadata": {},
   "outputs": [],
   "source": []
  }
 ],
 "metadata": {
  "colab": {
   "name": "Untitled2.ipynb",
   "provenance": [],
   "version": "0.3.2"
  },
  "kernelspec": {
   "display_name": "Python 3",
   "language": "python",
   "name": "python3"
  },
  "language_info": {
   "codemirror_mode": {
    "name": "ipython",
    "version": 3
   },
   "file_extension": ".py",
   "mimetype": "text/x-python",
   "name": "python",
   "nbconvert_exporter": "python",
   "pygments_lexer": "ipython3",
   "version": "3.6.8"
  }
 },
 "nbformat": 4,
 "nbformat_minor": 1
}
