{
 "cells": [
  {
   "cell_type": "markdown",
   "metadata": {
    "colab_type": "text",
    "id": "view-in-github"
   },
   "source": [
    "<a href=\"https://colab.research.google.com/github/NZtechpapa/Cifar10SVM_CNN/blob/master/cifar10_keras.ipynb\" target=\"_parent\"><img src=\"https://colab.research.google.com/assets/colab-badge.svg\" alt=\"Open In Colab\"/></a>"
   ]
  },
  {
   "cell_type": "code",
   "execution_count": 1,
   "metadata": {
    "colab": {
     "base_uri": "https://localhost:8080/",
     "height": 34
    },
    "colab_type": "code",
    "id": "jmTIeY4EMtBk",
    "outputId": "776d7054-89f9-413c-ff6d-2e720926b809"
   },
   "outputs": [
    {
     "name": "stderr",
     "output_type": "stream",
     "text": [
      "Using TensorFlow backend.\n"
     ]
    }
   ],
   "source": [
    "import keras\n",
    "from keras.models import Sequential\n",
    "from keras.utils import np_utils\n",
    "from keras.preprocessing.image import ImageDataGenerator\n",
    "from keras.layers import Dense, Activation, Flatten, Dropout, BatchNormalization\n",
    "from keras.layers import Conv2D, MaxPooling2D\n",
    "from keras.datasets import cifar10\n",
    "from keras import regularizers\n",
    "from keras.callbacks import LearningRateScheduler\n",
    "import numpy as np"
   ]
  },
  {
   "cell_type": "code",
   "execution_count": 2,
   "metadata": {
    "colab": {
     "base_uri": "https://localhost:8080/",
     "height": 51
    },
    "colab_type": "code",
    "id": "e0z5OV0qMuF2",
    "outputId": "8cb89b72-60ad-4f5a-a9b3-a1f16aeb6a82"
   },
   "outputs": [],
   "source": [
    "def lr_schedule(epoch):\n",
    "    lrate = 0.001\n",
    "    if epoch > 75:\n",
    "        lrate = 0.0005\n",
    "    elif epoch > 100:\n",
    "        lrate = 0.0003        \n",
    "    return lrate\n",
    "\n",
    "(x_train, y_train), (x_test, y_test) = cifar10.load_data()\n",
    "x_train = x_train.astype('float32')\n",
    "x_test = x_test.astype('float32')"
   ]
  },
  {
   "cell_type": "code",
   "execution_count": 3,
   "metadata": {
    "colab": {},
    "colab_type": "code",
    "id": "lUEbz2ZoMyrd"
   },
   "outputs": [],
   "source": [
    "#z-score\n",
    "mean = np.mean(x_train,axis=(0,1,2,3))\n",
    "std = np.std(x_train,axis=(0,1,2,3))\n",
    "x_train = (x_train-mean)/(std+1e-7)\n",
    "x_test = (x_test-mean)/(std+1e-7)\n"
   ]
  },
  {
   "cell_type": "code",
   "execution_count": 4,
   "metadata": {
    "colab": {},
    "colab_type": "code",
    "id": "_X1u_tF2M1Nv"
   },
   "outputs": [],
   "source": [
    "\n",
    "num_classes = 10\n",
    "y_train = np_utils.to_categorical(y_train,num_classes)\n",
    "y_test = np_utils.to_categorical(y_test,num_classes)\n"
   ]
  },
  {
   "cell_type": "code",
   "execution_count": 11,
   "metadata": {
    "colab": {
     "base_uri": "https://localhost:8080/",
     "height": 1020
    },
    "colab_type": "code",
    "id": "UGt-pp-9M7Rr",
    "outputId": "481b088a-ced7-4bfb-ea73-43e475d526e7"
   },
   "outputs": [
    {
     "name": "stdout",
     "output_type": "stream",
     "text": [
      "_________________________________________________________________\n",
      "Layer (type)                 Output Shape              Param #   \n",
      "=================================================================\n",
      "conv2d_7 (Conv2D)            (None, 32, 32, 32)        896       \n",
      "_________________________________________________________________\n",
      "activation_7 (Activation)    (None, 32, 32, 32)        0         \n",
      "_________________________________________________________________\n",
      "batch_normalization_7 (Batch (None, 32, 32, 32)        128       \n",
      "_________________________________________________________________\n",
      "conv2d_8 (Conv2D)            (None, 32, 32, 32)        9248      \n",
      "_________________________________________________________________\n",
      "activation_8 (Activation)    (None, 32, 32, 32)        0         \n",
      "_________________________________________________________________\n",
      "batch_normalization_8 (Batch (None, 32, 32, 32)        128       \n",
      "_________________________________________________________________\n",
      "max_pooling2d_4 (MaxPooling2 (None, 16, 16, 32)        0         \n",
      "_________________________________________________________________\n",
      "dropout_4 (Dropout)          (None, 16, 16, 32)        0         \n",
      "_________________________________________________________________\n",
      "conv2d_9 (Conv2D)            (None, 16, 16, 64)        18496     \n",
      "_________________________________________________________________\n",
      "activation_9 (Activation)    (None, 16, 16, 64)        0         \n",
      "_________________________________________________________________\n",
      "batch_normalization_9 (Batch (None, 16, 16, 64)        256       \n",
      "_________________________________________________________________\n",
      "conv2d_10 (Conv2D)           (None, 16, 16, 64)        36928     \n",
      "_________________________________________________________________\n",
      "activation_10 (Activation)   (None, 16, 16, 64)        0         \n",
      "_________________________________________________________________\n",
      "batch_normalization_10 (Batc (None, 16, 16, 64)        256       \n",
      "_________________________________________________________________\n",
      "max_pooling2d_5 (MaxPooling2 (None, 8, 8, 64)          0         \n",
      "_________________________________________________________________\n",
      "dropout_5 (Dropout)          (None, 8, 8, 64)          0         \n",
      "_________________________________________________________________\n",
      "conv2d_11 (Conv2D)           (None, 8, 8, 128)         73856     \n",
      "_________________________________________________________________\n",
      "activation_11 (Activation)   (None, 8, 8, 128)         0         \n",
      "_________________________________________________________________\n",
      "batch_normalization_11 (Batc (None, 8, 8, 128)         512       \n",
      "_________________________________________________________________\n",
      "conv2d_12 (Conv2D)           (None, 8, 8, 128)         147584    \n",
      "_________________________________________________________________\n",
      "activation_12 (Activation)   (None, 8, 8, 128)         0         \n",
      "_________________________________________________________________\n",
      "batch_normalization_12 (Batc (None, 8, 8, 128)         512       \n",
      "_________________________________________________________________\n",
      "max_pooling2d_6 (MaxPooling2 (None, 4, 4, 128)         0         \n",
      "_________________________________________________________________\n",
      "dropout_6 (Dropout)          (None, 4, 4, 128)         0         \n",
      "_________________________________________________________________\n",
      "flatten_2 (Flatten)          (None, 2048)              0         \n",
      "_________________________________________________________________\n",
      "svm (Dense)                  (None, 10)                20490     \n",
      "=================================================================\n",
      "Total params: 309,290\n",
      "Trainable params: 308,394\n",
      "Non-trainable params: 896\n",
      "_________________________________________________________________\n"
     ]
    }
   ],
   "source": [
    "weight_decay = 1e-4\n",
    "model = Sequential()\n",
    "model.add(Conv2D(32, (3,3), padding='same', kernel_regularizer=regularizers.l2(weight_decay), input_shape=x_train.shape[1:]))\n",
    "model.add(Activation('elu'))\n",
    "model.add(BatchNormalization())\n",
    "model.add(Conv2D(32, (3,3), padding='same', kernel_regularizer=regularizers.l2(weight_decay)))\n",
    "model.add(Activation('elu'))\n",
    "model.add(BatchNormalization())\n",
    "model.add(MaxPooling2D(pool_size=(2,2)))\n",
    "model.add(Dropout(0.2))\n",
    "\n",
    "model.add(Conv2D(64, (3,3), padding='same', kernel_regularizer=regularizers.l2(weight_decay)))\n",
    "model.add(Activation('elu'))\n",
    "model.add(BatchNormalization())\n",
    "model.add(Conv2D(64, (3,3), padding='same', kernel_regularizer=regularizers.l2(weight_decay)))\n",
    "model.add(Activation('elu'))\n",
    "model.add(BatchNormalization())\n",
    "model.add(MaxPooling2D(pool_size=(2,2)))\n",
    "model.add(Dropout(0.3))\n",
    "\n",
    "model.add(Conv2D(128, (3,3), padding='same', kernel_regularizer=regularizers.l2(weight_decay)))\n",
    "model.add(Activation('elu'))\n",
    "model.add(BatchNormalization())\n",
    "model.add(Conv2D(128, (3,3), padding='same', kernel_regularizer=regularizers.l2(weight_decay)))\n",
    "model.add(Activation('elu'))\n",
    "model.add(BatchNormalization())\n",
    "model.add(MaxPooling2D(pool_size=(2,2)))\n",
    "model.add(Dropout(0.4))\n",
    "\n",
    "model.add(Flatten())\n",
    "#model.add(Dense(num_classes, activation='softmax'))\n",
    "model.add(Dense(num_classes, activation='linear',name='svm'))\n",
    "model.summary()\n"
   ]
  },
  {
   "cell_type": "code",
   "execution_count": 12,
   "metadata": {
    "colab": {},
    "colab_type": "code",
    "id": "nLSfCxsbM-uh"
   },
   "outputs": [],
   "source": [
    "\n",
    "#data augmentation\n",
    "#datagen = ImageDataGenerator(\n",
    "#    rotation_range=15,\n",
    "#    width_shift_range=0.1,\n",
    "#    height_shift_range=0.1,\n",
    "#    horizontal_flip=True,\n",
    "#    )\n",
    "datagen = ImageDataGenerator(\n",
    "    # set input mean to 0 over the dataset\n",
    "    featurewise_center=False,\n",
    "    # set each sample mean to 0\n",
    "    samplewise_center=False,\n",
    "    # divide inputs by std of dataset\n",
    "    featurewise_std_normalization=False,\n",
    "    # divide each input by its std\n",
    "    samplewise_std_normalization=False,\n",
    "    # apply ZCA whitening\n",
    "    zca_whitening=False,\n",
    "    # epsilon for ZCA whitening\n",
    "    zca_epsilon=1e-06,\n",
    "    # randomly rotate images in the range (deg 0 to 180)\n",
    "    rotation_range=0,\n",
    "    # randomly shift images horizontally\n",
    "    width_shift_range=0.1,\n",
    "    # randomly shift images vertically\n",
    "    height_shift_range=0.1,\n",
    "    # set range for random shear\n",
    "    shear_range=0.,\n",
    "    # set range for random zoom\n",
    "    zoom_range=0.,\n",
    "    # set range for random channel shifts\n",
    "    channel_shift_range=0.,\n",
    "    # set mode for filling points outside the input boundaries\n",
    "    fill_mode='nearest',\n",
    "    # value used for fill_mode = \"constant\"\n",
    "    cval=0.,\n",
    "    # randomly flip images\n",
    "    horizontal_flip=True,\n",
    "    # randomly flip images\n",
    "    vertical_flip=False,\n",
    "    # set rescaling factor (applied before any other transformation)\n",
    "    rescale=None,\n",
    "    # set function that will be applied on each input\n",
    "    preprocessing_function=None,\n",
    "    # image data format, either \"channels_first\" or \"channels_last\"\n",
    "    data_format=None,\n",
    "    # fraction of images reserved for validation (strictly between 0 and 1)\n",
    "    validation_split=0.0)\n",
    "\n",
    "\n",
    "\n",
    "datagen.fit(x_train)"
   ]
  },
  {
   "cell_type": "code",
   "execution_count": 13,
   "metadata": {
    "colab": {},
    "colab_type": "code",
    "id": "OVDwVt_XNUY5"
   },
   "outputs": [],
   "source": [
    "from keras import backend as K\n",
    "import tensorflow as tf\n",
    "def svm_loss(layer):\n",
    "    weights = layer.weights[0]\n",
    "    weights_tf = tf.convert_to_tensor(weights)\n",
    "    \n",
    "    def categorical_hinge_loss(y_true, y_pred):\n",
    "        pos = K.sum(y_true * y_pred, axis=-1)\n",
    "        neg = K.max((1.0 - y_true) * y_pred, axis=-1)\n",
    "        hinge_loss = K.mean(K.maximum(0.0, neg - pos + 1), axis=-1)\n",
    "        regularization_loss = 0.5*(tf.reduce_sum(tf.square(weights_tf)))\n",
    "        return regularization_loss + 0.4*hinge_loss\n",
    "    \n",
    "    return categorical_hinge_loss"
   ]
  },
  {
   "cell_type": "code",
   "execution_count": 14,
   "metadata": {
    "colab": {},
    "colab_type": "code",
    "id": "dtIhgZFDNnVo"
   },
   "outputs": [],
   "source": [
    "metrics = ['accuracy']\n",
    "#optimizer = keras.optimizers.RMSprop(lr=2e-3, decay=1e-5)\n",
    "#optimizer = tf.train.AdamOptimizer(1.e-3)"
   ]
  },
  {
   "cell_type": "code",
   "execution_count": 15,
   "metadata": {
    "colab": {},
    "colab_type": "code",
    "id": "zjUMZyCXNFVZ"
   },
   "outputs": [],
   "source": [
    "#training\n",
    "batch_size = 64\n",
    "\n",
    "#opt_rms = keras.optimizers.rmsprop(lr=0.001,decay=1e-6)\n",
    "optimizer = keras.optimizers.rmsprop(lr=0.001,decay=1e-6)\n",
    "#model.compile(loss='categorical_crossentropy', optimizer=opt_rms, metrics=['accuracy'])\n",
    "model.compile(optimizer=optimizer, loss=svm_loss(model.get_layer('svm')), metrics=metrics)"
   ]
  },
  {
   "cell_type": "code",
   "execution_count": 20,
   "metadata": {
    "colab": {
     "base_uri": "https://localhost:8080/",
     "height": 377
    },
    "colab_type": "code",
    "id": "jILrkDSJNIBw",
    "outputId": "51afed39-cb68-4a48-c0ef-65ee7e9bad0c"
   },
   "outputs": [
    {
     "name": "stdout",
     "output_type": "stream",
     "text": [
      "Epoch 1/20\n",
      "78/78 [==============================] - 27s 348ms/step - loss: 0.3309 - acc: 0.6869 - val_loss: 0.3116 - val_acc: 0.7130\n",
      "Epoch 2/20\n",
      "78/78 [==============================] - 28s 353ms/step - loss: 0.3325 - acc: 0.6901 - val_loss: 0.3121 - val_acc: 0.7130\n",
      "Epoch 3/20\n",
      "78/78 [==============================] - 28s 358ms/step - loss: 0.3278 - acc: 0.6897 - val_loss: 0.3278 - val_acc: 0.6881\n",
      "Epoch 4/20\n",
      "78/78 [==============================] - 28s 354ms/step - loss: 0.3268 - acc: 0.6995 - val_loss: 0.3498 - val_acc: 0.6542\n",
      "Epoch 5/20\n",
      "78/78 [==============================] - 30s 388ms/step - loss: 0.3279 - acc: 0.6923 - val_loss: 0.3078 - val_acc: 0.7144\n",
      "Epoch 6/20\n",
      "78/78 [==============================] - 28s 358ms/step - loss: 0.3197 - acc: 0.6979 - val_loss: 0.3208 - val_acc: 0.6929\n",
      "Epoch 7/20\n",
      "78/78 [==============================] - 29s 376ms/step - loss: 0.3264 - acc: 0.6911 - val_loss: 0.3287 - val_acc: 0.6882\n",
      "Epoch 8/20\n",
      "78/78 [==============================] - 29s 366ms/step - loss: 0.3317 - acc: 0.6871 - val_loss: 0.3022 - val_acc: 0.7349\n",
      "Epoch 9/20\n",
      "78/78 [==============================] - 29s 373ms/step - loss: 0.3252 - acc: 0.7047 - val_loss: 0.3046 - val_acc: 0.7233\n",
      "Epoch 10/20\n",
      "78/78 [==============================] - 33s 426ms/step - loss: 0.3167 - acc: 0.7085 - val_loss: 0.2863 - val_acc: 0.7481\n",
      "Epoch 11/20\n",
      "78/78 [==============================] - 30s 380ms/step - loss: 0.3213 - acc: 0.7053 - val_loss: 0.3262 - val_acc: 0.6889\n",
      "Epoch 12/20\n",
      "78/78 [==============================] - 33s 422ms/step - loss: 0.3254 - acc: 0.6989 - val_loss: 0.3177 - val_acc: 0.7059\n",
      "Epoch 13/20\n",
      "78/78 [==============================] - 31s 401ms/step - loss: 0.3163 - acc: 0.7041 - val_loss: 0.3532 - val_acc: 0.6834\n",
      "Epoch 14/20\n",
      "78/78 [==============================] - 29s 369ms/step - loss: 0.3242 - acc: 0.7013 - val_loss: 0.2959 - val_acc: 0.7330\n",
      "Epoch 15/20\n",
      "78/78 [==============================] - 30s 387ms/step - loss: 0.3260 - acc: 0.6957 - val_loss: 0.2927 - val_acc: 0.7381\n",
      "Epoch 16/20\n",
      "78/78 [==============================] - 35s 449ms/step - loss: 0.3142 - acc: 0.7220 - val_loss: 0.3280 - val_acc: 0.6890\n",
      "Epoch 17/20\n",
      "78/78 [==============================] - 31s 395ms/step - loss: 0.3290 - acc: 0.6955 - val_loss: 0.3133 - val_acc: 0.7180\n",
      "Epoch 18/20\n",
      "78/78 [==============================] - 30s 389ms/step - loss: 0.3207 - acc: 0.7089 - val_loss: 0.3149 - val_acc: 0.7164\n",
      "Epoch 19/20\n",
      "78/78 [==============================] - 29s 377ms/step - loss: 0.3178 - acc: 0.7069 - val_loss: 0.3091 - val_acc: 0.7140\n",
      "Epoch 20/20\n",
      "78/78 [==============================] - 29s 377ms/step - loss: 0.3203 - acc: 0.7025 - val_loss: 0.3181 - val_acc: 0.7055\n"
     ]
    },
    {
     "data": {
      "text/plain": [
       "<keras.callbacks.History at 0x7f6f04057eb8>"
      ]
     },
     "execution_count": 20,
     "metadata": {},
     "output_type": "execute_result"
    }
   ],
   "source": [
    "#\n",
    "model.fit_generator(datagen.flow(x_train, y_train, batch_size=batch_size),\\\n",
    "                    steps_per_epoch=x_train.shape[0] //( batch_size *10),epochs=125,\\\n",
    "                    verbose=1,validation_data=(x_test,y_test),callbacks=[LearningRateScheduler(lr_schedule)])"
   ]
  },
  {
   "cell_type": "code",
   "execution_count": 19,
   "metadata": {},
   "outputs": [],
   "source": [
    "history = model.history"
   ]
  },
  {
   "cell_type": "code",
   "execution_count": null,
   "metadata": {
    "colab": {
     "base_uri": "https://localhost:8080/",
     "height": 1278
    },
    "colab_type": "code",
    "id": "hlhJaP_JGOev",
    "outputId": "1c82d37e-03a3-4e7b-da28-d72eec9791c1"
   },
   "outputs": [],
   "source": [
    "#save to disk\n",
    "model_json = model.to_json()\n",
    "with open('model.json', 'w') as json_file:\n",
    "    json_file.write(model_json)\n",
    "\n",
    "model.save_weights('model.h5')    \n",
    "\n",
    "#testing\n",
    "scores = model.evaluate(x_test, y_test, batch_size=128, verbose=1)\n",
    "print('\\nTest result: %.3f loss: %.3f' % (scores[1]*100,scores[0]))"
   ]
  },
  {
   "cell_type": "code",
   "execution_count": null,
   "metadata": {},
   "outputs": [],
   "source": []
  },
  {
   "cell_type": "code",
   "execution_count": null,
   "metadata": {},
   "outputs": [],
   "source": []
  }
 ],
 "metadata": {
  "colab": {
   "include_colab_link": true,
   "name": "Untitled2.ipynb",
   "provenance": [],
   "version": "0.3.2"
  },
  "kernelspec": {
   "display_name": "Python 3",
   "language": "python",
   "name": "python3"
  },
  "language_info": {
   "codemirror_mode": {
    "name": "ipython",
    "version": 3
   },
   "file_extension": ".py",
   "mimetype": "text/x-python",
   "name": "python",
   "nbconvert_exporter": "python",
   "pygments_lexer": "ipython3",
   "version": "3.7.2"
  }
 },
 "nbformat": 4,
 "nbformat_minor": 1
}
